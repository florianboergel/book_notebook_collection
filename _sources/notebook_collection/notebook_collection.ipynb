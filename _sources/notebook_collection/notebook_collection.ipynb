{
 "cells": [
  {
   "cell_type": "markdown",
   "metadata": {},
   "source": [
    "# IOW collection of Jupyter notebooks\n",
    "\n",
    "Feel free to browse and add share your work. Arrows in parantheses (==>) show where you could add your work."
   ]
  },
  {
   "cell_type": "markdown",
   "metadata": {},
   "source": [
    "## Getting started\n",
    "[==>](jupyter_notebooks/jupyter_notebooks.ipynb) Working with Jupyter Notebooks\n",
    "\n",
    "[(==>)](getstarted_iow/getstarted_iow.ipynb) Get started working at IOW\n",
    "\n",
    "Introduction to scripting languages:\n",
    "   * [(==>)](intro_python/intro_python.ipynb) Python\n",
    "   * [(==>)](intro_r/intro_r.ipynb) R\n",
    "   * [(==>)](intro_pyferret/intro_pyferret.ipynb) Pyferret"
   ]
  },
  {
   "cell_type": "markdown",
   "metadata": {},
   "source": [
    "## Frequent tasks\n",
    "\n",
    "[==>](./plots_and_maps/plots_and_maps.ipynb) Plots and maps\n",
    "\n",
    "[==>](./converting_files/converting_files.ipynb) Converting files\n",
    "\n",
    "[==>](./accessing_data/accessing_data.ipynb) Accessing data from remote or local sources"
   ]
  },
  {
   "cell_type": "markdown",
   "metadata": {},
   "source": [
    "## Model run preparation\n",
    "\n",
    "[(==>)](cclm_prepare/index.ipynb) COSMO-CLM run preparation tasks\n",
    "\n",
    "[==>](getm_prepare/index.ipynb) GETM run preparation tasks\n",
    "\n",
    "[(==>)](mom5_prepare/index.ipynb) MOM5 run preparation tasks"
   ]
  },
  {
   "cell_type": "markdown",
   "metadata": {},
   "source": [
    "## Model output postprocessing\n",
    "\n",
    "[(==>)](cclm_postprocess/index.ipynb) COSMO-CLM output postprocessing\n",
    "\n",
    "[(==>)](getm_postprocess/index.ipynb) GETM output postprocessing\n",
    "\n",
    "[==>](mom5_postprocess/index.ipynb) MOM5 output postprocessing"
   ]
  },
  {
   "cell_type": "markdown",
   "metadata": {},
   "source": [
    "## Observational data processing\n",
    "\n",
    "[(==>)](obsdata_topography/obsdata_topography.ipynb) Topography processing\n",
    "\n",
    "[==>](obsdata_gaugedata/obsdata_gaugedata.ipynb) Tide gauge data processing\n",
    "\n",
    "[==>](obsdata_hydrography/obsdata_hydrography.ipynb) Hydrographic data (temperature, salinity) processing\n",
    "\n",
    "[(==>)](obsdata_riverdata/obsdata_riverdata.ipynb) Runoff data processing"
   ]
  },
  {
   "cell_type": "markdown",
   "metadata": {},
   "source": [
    "## Statistical analyses\n",
    "\n",
    "[==>](stat_timeseries/stat_timeseries.ipynb) Time series analyses\n",
    "\n",
    "[(==>)](stat_spatial/index.ipynb) Spatial analyses (EOF etc.)\n"
   ]
  }
 ],
 "metadata": {
  "kernelspec": {
   "display_name": "(1) Python 3",
   "language": "python",
   "name": "iow_python"
  },
  "language_info": {
   "codemirror_mode": {
    "name": "ipython",
    "version": 3
   },
   "file_extension": ".py",
   "mimetype": "text/x-python",
   "name": "python",
   "nbconvert_exporter": "python",
   "pygments_lexer": "ipython3",
   "version": "3.7.7"
  }
 },
 "nbformat": 4,
 "nbformat_minor": 4
}
