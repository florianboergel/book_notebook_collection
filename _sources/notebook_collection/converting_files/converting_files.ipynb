{
 "cells": [
  {
   "cell_type": "markdown",
   "metadata": {},
   "source": [
    "# Converting files"
   ]
  },
  {
   "cell_type": "markdown",
   "metadata": {},
   "source": [
    "## Convert shapefiles (.shp) ...\n",
    "\n",
    "[==>](./shapefile_ascii_polygons/shapefile_ascii_polygons.ipynb) ... to ASCII list (coordinates of polygons)\n",
    "\n",
    "[==>](./shapefile_nc_raster/shapefile_nc_raster.ipynb) ... to NetCDF (rastered / gridded)\n"
   ]
  }
 ],
 "metadata": {
  "kernelspec": {
   "display_name": "(1) Python 3",
   "language": "python",
   "name": "iow_python"
  },
  "language_info": {
   "codemirror_mode": {
    "name": "ipython",
    "version": 3
   },
   "file_extension": ".py",
   "mimetype": "text/x-python",
   "name": "python",
   "nbconvert_exporter": "python",
   "pygments_lexer": "ipython3",
   "version": "3.7.7"
  }
 },
 "nbformat": 4,
 "nbformat_minor": 4
}
