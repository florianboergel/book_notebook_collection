{
 "cells": [
  {
   "cell_type": "markdown",
   "metadata": {},
   "source": [
    "# Converting shapefiles (.shp) to gridded/rastered NetCDF (.nc) \n",
    "*by Hagen Radtke, 2020-06-25*"
   ]
  },
  {
   "cell_type": "markdown",
   "metadata": {},
   "source": [
    "## Read in the shapefile\n",
    "\n",
    "The shapefile is saved in the subfolder `my_folder`. It consists of several files with different file extensions.\n",
    "We will read it using the R library `rgdal`."
   ]
  },
  {
   "cell_type": "code",
   "execution_count": 1,
   "metadata": {},
   "outputs": [
    {
     "name": "stderr",
     "output_type": "stream",
     "text": [
      "Loading required package: sp\n",
      "rgdal: version: 1.5-10, (SVN revision 1006)\n",
      "Geospatial Data Abstraction Library extensions to R successfully loaded\n",
      "Loaded GDAL runtime: GDAL 2.3.3, released 2018/12/14\n",
      "Path to GDAL shared files: /silos/conda_packages/radtke/miniconda3_4.8.2/OS_42.3/conda_env/iow_python/share/gdal\n",
      "GDAL binary built with GEOS: TRUE \n",
      "Loaded PROJ runtime: Rel. 5.2.0, September 15th, 2018, [PJ_VERSION: 520]\n",
      "Path to PROJ shared files: /sw/data/python/miniconda3/4.8.2/OS_42.3/envs/iow_r_basic/share/proj\n",
      "Linking to sp version:1.3-1\n"
     ]
    },
    {
     "name": "stdout",
     "output_type": "stream",
     "text": [
      "OGR data source with driver: ESRI Shapefile \n",
      "Source: \"/silos/notebook_collection/converting_files/shapefile_nc_raster/my_folder\", layer: \"IPCC_regions_Aug2013\"\n",
      "with 18 features\n",
      "It has 2 fields\n"
     ]
    }
   ],
   "source": [
    "setwd(\"/silos/notebook_collection/converting_files/shapefile_nc_raster/\")\n",
    "library(\"rgdal\")\n",
    "shape = rgdal::readOGR(\"my_folder\",\"IPCC_regions_Aug2013\")"
   ]
  },
  {
   "cell_type": "markdown",
   "metadata": {},
   "source": [
    "Check if the shape is already on a latitude-longitude grid:"
   ]
  },
  {
   "cell_type": "code",
   "execution_count": 3,
   "metadata": {},
   "outputs": [
    {
     "data": {
      "text/plain": [
       "CRS arguments: +proj=longlat +ellps=clrk66 +no_defs "
      ]
     },
     "metadata": {},
     "output_type": "display_data"
    }
   ],
   "source": [
    "shape@proj4string"
   ]
  },
  {
   "cell_type": "markdown",
   "metadata": {},
   "source": [
    "Okay, projection is already \"longlat\". If this is not the case, we have to reproject it like this:\n",
    "\n",
    "``projection <- \"+proj=longlat +datum=WGS84 +ellps=WGS84 +towgs84=0,0,0\" ``\n",
    "\n",
    "``shape <- spTransform(shape, CRS(projection))``"
   ]
  },
  {
   "cell_type": "markdown",
   "metadata": {},
   "source": [
    "Load the `raster` package to define a regular grid and then rasterize the shapefile to get a matrix"
   ]
  },
  {
   "cell_type": "code",
   "execution_count": 8,
   "metadata": {},
   "outputs": [],
   "source": [
    "library(\"raster\")\n",
    "# define latitude-longitude range and resolution\n",
    "ext <- extent(-30, 50, 30, 75)\n",
    "gridresolution <- 0.5\n",
    "\n",
    "r <- raster(ext, res=gridresolution)\n",
    "\n",
    "## Rasterize the shapefile\n",
    "rr <- rasterize(shape, r)\n",
    "mymatrix <- as.matrix(rr)\n"
   ]
  },
  {
   "cell_type": "markdown",
   "metadata": {},
   "source": [
    "We can plot the matrix"
   ]
  },
  {
   "cell_type": "code",
   "execution_count": 10,
   "metadata": {},
   "outputs": [
    {
     "data": {
      "image/png": "[encoded data removed]",
      "text/plain": [
       "plot without title"
      ]
     },
     "metadata": {},
     "output_type": "display_data"
    }
   ],
   "source": [
    "image(mymatrix)"
   ]
  },
  {
   "cell_type": "markdown",
   "metadata": {},
   "source": [
    "It seems that latitude is the second axis so we need to transpose the matrix before plotting"
   ]
  },
  {
   "cell_type": "code",
   "execution_count": 11,
   "metadata": {},
   "outputs": [
    {
     "data": {
      "image/png": "[encoded data removed]",
      "text/plain": [
       "plot without title"
      ]
     },
     "metadata": {},
     "output_type": "display_data"
    }
   ],
   "source": [
    "image(t(mymatrix))"
   ]
  },
  {
   "cell_type": "markdown",
   "metadata": {},
   "source": [
    "Still not good: Latitude is in decreasing order. We need to reverse the first axis (keep the second one):"
   ]
  },
  {
   "cell_type": "code",
   "execution_count": 12,
   "metadata": {},
   "outputs": [
    {
     "data": {
      "image/png": "[encoded data removed]",
      "text/plain": [
       "plot without title"
      ]
     },
     "metadata": {},
     "output_type": "display_data"
    }
   ],
   "source": [
    "final_matrix = apply(mymatrix,2,rev)\n",
    "image(t(final_matrix))"
   ]
  },
  {
   "cell_type": "markdown",
   "metadata": {},
   "source": [
    "That looks good but what do the values mean? We can find it out."
   ]
  },
  {
   "cell_type": "code",
   "execution_count": 12,
   "metadata": {},
   "outputs": [
    {
     "data": {
      "text/html": [
       "<table>\n",
       "<thead><tr><th></th><th scope=col>IPCC17</th><th scope=col>IPCC5</th></tr></thead>\n",
       "<tbody>\n",
       "\t<tr><th scope=row>0</th><td>Alpine North     </td><td>Alpine           </td></tr>\n",
       "\t<tr><th scope=row>1</th><td>Alpine South     </td><td>Alpine           </td></tr>\n",
       "\t<tr><th scope=row>2</th><td>Anatolian        </td><td>Southern         </td></tr>\n",
       "\t<tr><th scope=row>3</th><td>Arctic           </td><td>Northern         </td></tr>\n",
       "\t<tr><th scope=row>4</th><td>Atlantic Central </td><td>Atlantic         </td></tr>\n",
       "\t<tr><th scope=row>5</th><td>Atlantic North   </td><td>Atlantic         </td></tr>\n",
       "\t<tr><th scope=row>6</th><td>Black Sea        </td><td>Southern         </td></tr>\n",
       "\t<tr><th scope=row>7</th><td>Boreal           </td><td>Northern         </td></tr>\n",
       "\t<tr><th scope=row>8</th><td>Continental      </td><td>Continental      </td></tr>\n",
       "\t<tr><th scope=row>9</th><td>Eastern Mountains</td><td>Alpine           </td></tr>\n",
       "\t<tr><th scope=row>10</th><td>Icelandic        </td><td>Northern         </td></tr>\n",
       "\t<tr><th scope=row>11</th><td>Lusitanian       </td><td>Atlantic         </td></tr>\n",
       "\t<tr><th scope=row>12</th><td>Med. Mountains   </td><td>Southern         </td></tr>\n",
       "\t<tr><th scope=row>13</th><td>Med. North       </td><td>Southern         </td></tr>\n",
       "\t<tr><th scope=row>14</th><td>Med. South       </td><td>Southern         </td></tr>\n",
       "\t<tr><th scope=row>15</th><td>Nemoral          </td><td>Northern         </td></tr>\n",
       "\t<tr><th scope=row>16</th><td>Pannonian        </td><td>Continental      </td></tr>\n",
       "\t<tr><th scope=row>17</th><td>Steppic          </td><td>Continental      </td></tr>\n",
       "</tbody>\n",
       "</table>\n"
      ],
      "text/latex": [
       "\\begin{tabular}{r|ll}\n",
       "  & IPCC17 & IPCC5\\\\\n",
       "\\hline\n",
       "\t0 & Alpine North      & Alpine           \\\\\n",
       "\t1 & Alpine South      & Alpine           \\\\\n",
       "\t2 & Anatolian         & Southern         \\\\\n",
       "\t3 & Arctic            & Northern         \\\\\n",
       "\t4 & Atlantic Central  & Atlantic         \\\\\n",
       "\t5 & Atlantic North    & Atlantic         \\\\\n",
       "\t6 & Black Sea         & Southern         \\\\\n",
       "\t7 & Boreal            & Northern         \\\\\n",
       "\t8 & Continental       & Continental      \\\\\n",
       "\t9 & Eastern Mountains & Alpine           \\\\\n",
       "\t10 & Icelandic         & Northern         \\\\\n",
       "\t11 & Lusitanian        & Atlantic         \\\\\n",
       "\t12 & Med. Mountains    & Southern         \\\\\n",
       "\t13 & Med. North        & Southern         \\\\\n",
       "\t14 & Med. South        & Southern         \\\\\n",
       "\t15 & Nemoral           & Northern         \\\\\n",
       "\t16 & Pannonian         & Continental      \\\\\n",
       "\t17 & Steppic           & Continental      \\\\\n",
       "\\end{tabular}\n"
      ],
      "text/markdown": [
       "\n",
       "| <!--/--> | IPCC17 | IPCC5 |\n",
       "|---|---|---|\n",
       "| 0 | Alpine North      | Alpine            |\n",
       "| 1 | Alpine South      | Alpine            |\n",
       "| 2 | Anatolian         | Southern          |\n",
       "| 3 | Arctic            | Northern          |\n",
       "| 4 | Atlantic Central  | Atlantic          |\n",
       "| 5 | Atlantic North    | Atlantic          |\n",
       "| 6 | Black Sea         | Southern          |\n",
       "| 7 | Boreal            | Northern          |\n",
       "| 8 | Continental       | Continental       |\n",
       "| 9 | Eastern Mountains | Alpine            |\n",
       "| 10 | Icelandic         | Northern          |\n",
       "| 11 | Lusitanian        | Atlantic          |\n",
       "| 12 | Med. Mountains    | Southern          |\n",
       "| 13 | Med. North        | Southern          |\n",
       "| 14 | Med. South        | Southern          |\n",
       "| 15 | Nemoral           | Northern          |\n",
       "| 16 | Pannonian         | Continental       |\n",
       "| 17 | Steppic           | Continental       |\n",
       "\n"
      ],
      "text/plain": [
       "   IPCC17            IPCC5      \n",
       "0  Alpine North      Alpine     \n",
       "1  Alpine South      Alpine     \n",
       "2  Anatolian         Southern   \n",
       "3  Arctic            Northern   \n",
       "4  Atlantic Central  Atlantic   \n",
       "5  Atlantic North    Atlantic   \n",
       "6  Black Sea         Southern   \n",
       "7  Boreal            Northern   \n",
       "8  Continental       Continental\n",
       "9  Eastern Mountains Alpine     \n",
       "10 Icelandic         Northern   \n",
       "11 Lusitanian        Atlantic   \n",
       "12 Med. Mountains    Southern   \n",
       "13 Med. North        Southern   \n",
       "14 Med. South        Southern   \n",
       "15 Nemoral           Northern   \n",
       "16 Pannonian         Continental\n",
       "17 Steppic           Continental"
      ]
     },
     "metadata": {},
     "output_type": "display_data"
    }
   ],
   "source": [
    "legend = shape@data\n",
    "legend"
   ]
  },
  {
   "cell_type": "markdown",
   "metadata": {},
   "source": [
    "Now load the NetCDF library and create an output file"
   ]
  },
  {
   "cell_type": "code",
   "execution_count": 7,
   "metadata": {},
   "outputs": [],
   "source": [
    "library(\"RNetCDF\")\n",
    "# create NetCDF file\n",
    "nc = create.nc(\"gridded.nc\")"
   ]
  },
  {
   "cell_type": "markdown",
   "metadata": {},
   "source": [
    "But we need to define the coordinate axes first before writing the data"
   ]
  },
  {
   "cell_type": "code",
   "execution_count": 8,
   "metadata": {},
   "outputs": [],
   "source": [
    "latitude = seq(from=3,by=gridresolution,length.out = dim(final_matrix)[1])\n",
    "longitude = seq(from=-30,by=gridresolution,length.out = dim(final_matrix)[2])"
   ]
  },
  {
   "cell_type": "markdown",
   "metadata": {},
   "source": [
    "Now we write the axes first and then the data and close the file"
   ]
  },
  {
   "cell_type": "code",
   "execution_count": 9,
   "metadata": {},
   "outputs": [],
   "source": [
    "# write axes\n",
    "dim.def.nc(nc,\"xaxis\",length(longitude))\n",
    "var.def.nc(nc,\"xaxis\",\"NC_DOUBLE\",c(\"xaxis\"))\n",
    "var.put.nc(nc,\"xaxis\",longitude)\n",
    "att.put.nc(nc,\"xaxis\",\"units\",\"NC_CHAR\",\"degrees_east\")\n",
    "att.put.nc(nc,\"xaxis\",\"cartesian_axis\",\"NC_CHAR\",\"x\")\n",
    "\n",
    "dim.def.nc(nc,\"yaxis\",length(latitude))\n",
    "var.def.nc(nc,\"yaxis\",\"NC_DOUBLE\",c(\"yaxis\"))\n",
    "var.put.nc(nc,\"yaxis\",latitude)\n",
    "att.put.nc(nc,\"yaxis\",\"units\",\"NC_CHAR\",\"degrees_north\")\n",
    "att.put.nc(nc,\"yaxis\",\"cartesian_axis\",\"NC_CHAR\",\"y\")\n",
    "\n",
    "# write data\n",
    "var.def.nc(nc,\"climate_region\",\"NC_DOUBLE\",c(\"yaxis\",\"xaxis\"))\n",
    "var.put.nc(nc, \"climate_region\", mymatrix)\n",
    "\n",
    "# close NetCDF file\n",
    "close.nc(nc)"
   ]
  },
  {
   "cell_type": "markdown",
   "metadata": {},
   "source": [
    "Check if that worked by running a system command:"
   ]
  },
  {
   "cell_type": "code",
   "execution_count": 10,
   "metadata": {},
   "outputs": [
    {
     "data": {
      "text/html": [
       "<ol class=list-inline>\n",
       "\t<li>'netcdf gridded {'</li>\n",
       "\t<li>'dimensions:'</li>\n",
       "\t<li>'\\txaxis = 160 ;'</li>\n",
       "\t<li>'\\tyaxis = 90 ;'</li>\n",
       "\t<li>'variables:'</li>\n",
       "\t<li>'\\tdouble xaxis(xaxis) ;'</li>\n",
       "\t<li>'\\t\\txaxis:units = \"degrees_east\" ;'</li>\n",
       "\t<li>'\\t\\txaxis:cartesian_axis = \"x\" ;'</li>\n",
       "\t<li>'\\tdouble yaxis(yaxis) ;'</li>\n",
       "\t<li>'\\t\\tyaxis:units = \"degrees_north\" ;'</li>\n",
       "\t<li>'\\t\\tyaxis:cartesian_axis = \"y\" ;'</li>\n",
       "\t<li>'\\tdouble climate_region(xaxis, yaxis) ;'</li>\n",
       "\t<li>'}'</li>\n",
       "</ol>\n"
      ],
      "text/latex": [
       "\\begin{enumerate*}\n",
       "\\item 'netcdf gridded \\{'\n",
       "\\item 'dimensions:'\n",
       "\\item '\\textbackslash{}txaxis = 160 ;'\n",
       "\\item '\\textbackslash{}tyaxis = 90 ;'\n",
       "\\item 'variables:'\n",
       "\\item '\\textbackslash{}tdouble xaxis(xaxis) ;'\n",
       "\\item '\\textbackslash{}t\\textbackslash{}txaxis:units = \"degrees\\_east\" ;'\n",
       "\\item '\\textbackslash{}t\\textbackslash{}txaxis:cartesian\\_axis = \"x\" ;'\n",
       "\\item '\\textbackslash{}tdouble yaxis(yaxis) ;'\n",
       "\\item '\\textbackslash{}t\\textbackslash{}tyaxis:units = \"degrees\\_north\" ;'\n",
       "\\item '\\textbackslash{}t\\textbackslash{}tyaxis:cartesian\\_axis = \"y\" ;'\n",
       "\\item '\\textbackslash{}tdouble climate\\_region(xaxis, yaxis) ;'\n",
       "\\item '\\}'\n",
       "\\end{enumerate*}\n"
      ],
      "text/markdown": [
       "1. 'netcdf gridded {'\n",
       "2. 'dimensions:'\n",
       "3. '\\txaxis = 160 ;'\n",
       "4. '\\tyaxis = 90 ;'\n",
       "5. 'variables:'\n",
       "6. '\\tdouble xaxis(xaxis) ;'\n",
       "7. '\\t\\txaxis:units = \"degrees_east\" ;'\n",
       "8. '\\t\\txaxis:cartesian_axis = \"x\" ;'\n",
       "9. '\\tdouble yaxis(yaxis) ;'\n",
       "10. '\\t\\tyaxis:units = \"degrees_north\" ;'\n",
       "11. '\\t\\tyaxis:cartesian_axis = \"y\" ;'\n",
       "12. '\\tdouble climate_region(xaxis, yaxis) ;'\n",
       "13. '}'\n",
       "\n",
       "\n"
      ],
      "text/plain": [
       " [1] \"netcdf gridded {\"                       \n",
       " [2] \"dimensions:\"                            \n",
       " [3] \"\\txaxis = 160 ;\"                        \n",
       " [4] \"\\tyaxis = 90 ;\"                         \n",
       " [5] \"variables:\"                             \n",
       " [6] \"\\tdouble xaxis(xaxis) ;\"                \n",
       " [7] \"\\t\\txaxis:units = \\\"degrees_east\\\" ;\"   \n",
       " [8] \"\\t\\txaxis:cartesian_axis = \\\"x\\\" ;\"     \n",
       " [9] \"\\tdouble yaxis(yaxis) ;\"                \n",
       "[10] \"\\t\\tyaxis:units = \\\"degrees_north\\\" ;\"  \n",
       "[11] \"\\t\\tyaxis:cartesian_axis = \\\"y\\\" ;\"     \n",
       "[12] \"\\tdouble climate_region(xaxis, yaxis) ;\"\n",
       "[13] \"}\"                                      "
      ]
     },
     "metadata": {},
     "output_type": "display_data"
    }
   ],
   "source": [
    "system(\"ncdump -h gridded.nc\", intern=TRUE )"
   ]
  },
  {
   "cell_type": "code",
   "execution_count": 11,
   "metadata": {},
   "outputs": [
    {
     "name": "stdout",
     "output_type": "stream",
     "text": [
      "netcdf gridded { \n",
      " dimensions: \n",
      " \txaxis = 160 ; \n",
      " \tyaxis = 90 ; \n",
      " variables: \n",
      " \tdouble xaxis(xaxis) ; \n",
      " \t\txaxis:units = \"degrees_east\" ; \n",
      " \t\txaxis:cartesian_axis = \"x\" ; \n",
      " \tdouble yaxis(yaxis) ; \n",
      " \t\tyaxis:units = \"degrees_north\" ; \n",
      " \t\tyaxis:cartesian_axis = \"y\" ; \n",
      " \tdouble climate_region(xaxis, yaxis) ; \n",
      " } \n"
     ]
    }
   ],
   "source": [
    "# more nicely formatted:\n",
    "cat(paste(system(\"ncdump -h gridded.nc\", intern=TRUE ),'\\n'))"
   ]
  },
  {
   "cell_type": "code",
   "execution_count": null,
   "metadata": {},
   "outputs": [],
   "source": []
  }
 ],
 "metadata": {
  "kernelspec": {
   "display_name": "(4) R basic",
   "language": "R",
   "name": "iow_r_basic"
  },
  "language_info": {
   "codemirror_mode": "r",
   "file_extension": ".r",
   "mimetype": "text/x-r-source",
   "name": "R",
   "pygments_lexer": "r",
   "version": "3.6.1"
  }
 },
 "nbformat": 4,
 "nbformat_minor": 4
}
