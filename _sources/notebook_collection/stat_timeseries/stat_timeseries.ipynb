{
 "cells": [
  {
   "cell_type": "markdown",
   "metadata": {},
   "source": [
    "# Time series analyses\n"
   ]
  },
  {
   "cell_type": "markdown",
   "metadata": {},
   "source": [
    "## Trend detection\n",
    "\n",
    "[(==>)](./linear_trend_autocorr/linear_trend_autocorr.ipynb) Detecting a linear trend in autocorrelated data\n",
    "\n"
   ]
  },
  {
   "cell_type": "markdown",
   "metadata": {},
   "source": [
    "## Regression\n",
    "\n",
    "[==>](./regression_maps/regression.ipynb) Fast regression for spatial `data` onto 1d `index`."
   ]
  },
  {
   "cell_type": "markdown",
   "metadata": {},
   "source": [
    "## Spectral methods\n",
    "\n",
    "[(==>)](./wavelet/wavelet.ipynb) Wavelet analysis\n",
    "\n",
    "[(==>)](./wavelet_coherence/wavelet_coherence.ipynb) Wavelet coherence analysis"
   ]
  },
  {
   "cell_type": "markdown",
   "metadata": {},
   "source": [
    "## Incomplete time series\n",
    "\n",
    "\n",
    "[==>](./seasonal_observation_bias/seasonal_observation_bias.ipynb) Removing a seasonal observation bias\n",
    "\n",
    "[(==>)](./gappy_fft/gappy_fft.ipynb) Spectral analyis of time series with gaps"
   ]
  },
  {
   "cell_type": "code",
   "execution_count": null,
   "metadata": {},
   "outputs": [],
   "source": []
  }
 ],
 "metadata": {
  "kernelspec": {
   "display_name": "(1) Python 3",
   "language": "python",
   "name": "iow_python"
  },
  "language_info": {
   "codemirror_mode": {
    "name": "ipython",
    "version": 3
   },
   "file_extension": ".py",
   "mimetype": "text/x-python",
   "name": "python",
   "nbconvert_exporter": "python",
   "pygments_lexer": "ipython3",
   "version": "3.7.7"
  }
 },
 "nbformat": 4,
 "nbformat_minor": 4
}
