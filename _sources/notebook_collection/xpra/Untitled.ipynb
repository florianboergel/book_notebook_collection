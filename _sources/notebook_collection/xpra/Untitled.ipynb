{
 "cells": [
  {
   "cell_type": "code",
   "execution_count": 1,
   "id": "prime-candle",
   "metadata": {},
   "outputs": [],
   "source": []
  },
  {
   "cell_type": "code",
   "execution_count": 15,
   "id": "passing-transfer",
   "metadata": {},
   "outputs": [
    {
     "name": "stdout",
     "output_type": "stream",
     "text": [
      "http://PHY-4:12114\n"
     ]
    },
    {
     "name": "stderr",
     "output_type": "stream",
     "text": [
      "Module for cgt version 1.4.3 loaded\n"
     ]
    }
   ],
   "source": [
    "%%bash\n",
    "xpra_run() {\n",
    "    xpra start :100 --html=on --exit-with-client=yes --xvfb='xpra_Xdummy -noreset vt10 -nolisten tcp +extension GLX +extension RANDR +extension RENDER -auth $XAUTHORITY -logfile ${XPRA_LOG_DIR}/Xorg.${DISPLAY}.log -configdir ${XDG_RUNTIME_DIR}/xpra/xorg.conf.d/$PID -config /etc/xpra/xorg.conf' --bind-tcp=0.0.0.0:12114 --start=\"xrandr -s 800x600\" --start=\"$1 $2 $3 $4\" > /dev/null 2>&1 ; echo \"http://`hostname -s`:12114\"\n",
    "} \n",
    "\n",
    "module load cgt\n",
    "\n",
    "xpra_run cgt\n"
   ]
  },
  {
   "cell_type": "code",
   "execution_count": 17,
   "id": "psychological-explosion",
   "metadata": {},
   "outputs": [
    {
     "data": {
      "text/html": [
       "\n",
       "        <iframe\n",
       "            width=\"700\"\n",
       "            height=\"600\"\n",
       "            src=\"http://localhost:12114\"\n",
       "            frameborder=\"0\"\n",
       "            allowfullscreen\n",
       "        ></iframe>\n",
       "        "
      ],
      "text/plain": [
       "<IPython.lib.display.IFrame at 0x7ff684130460>"
      ]
     },
     "execution_count": 17,
     "metadata": {},
     "output_type": "execute_result"
    }
   ],
   "source": [
    "from IPython.display import IFrame\n",
    "\n",
    "IFrame(src='http://localhost:12114', width=700, height=600)"
   ]
  },
  {
   "cell_type": "code",
   "execution_count": 4,
   "id": "structured-diabetes",
   "metadata": {},
   "outputs": [
    {
     "name": "stdout",
     "output_type": "stream",
     "text": [
      "/bin/bash: -c: line 1: syntax error: unexpected end of file\n"
     ]
    }
   ],
   "source": [
    "!xpra_run() { xpra start :100 --use-display=no --exit-with-client=yes --xvfb='xpra_Xdummy -noreset vt10 -nolisten tcp +extension GLX +extension RANDR +extension RENDER -auth $XAUTHORITY -logfile ${XPRA_LOG_DIR}/Xorg.${DISPLAY}.log -configdir ${XDG_RUNTIME_DIR}/xpra/xorg.conf.d/$PID -config /etc/xpra/xorg.conf' --bind-tcp=0.0.0.0:12114 --start=\"xrandr -s 800x600\" --start=\"$1 $2 $3 $4\" > /dev/null 2>&1 ; echo \"http://`hostname -s`:12114\" } && xpra_run"
   ]
  },
  {
   "cell_type": "code",
   "execution_count": null,
   "id": "martial-auckland",
   "metadata": {},
   "outputs": [],
   "source": []
  }
 ],
 "metadata": {
  "kernelspec": {
   "display_name": "Python 3",
   "language": "python",
   "name": "python3"
  },
  "language_info": {
   "codemirror_mode": {
    "name": "ipython",
    "version": 3
   },
   "file_extension": ".py",
   "mimetype": "text/x-python",
   "name": "python",
   "nbconvert_exporter": "python",
   "pygments_lexer": "ipython3",
   "version": "3.7.9"
  }
 },
 "nbformat": 4,
 "nbformat_minor": 5
}
