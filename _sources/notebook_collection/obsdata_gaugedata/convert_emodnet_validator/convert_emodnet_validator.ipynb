{
 "cells": [
  {
   "cell_type": "markdown",
   "metadata": {},
   "source": [
    "# Convert EmodNet tide gauge data to validator format\n",
    "\n",
    "Here we convert EmodNet tide gauge data to a \"validator\" dataset for model validation.\n",
    "\n",
    "We first have to define some paths."
   ]
  },
  {
   "cell_type": "code",
   "execution_count": 3,
   "metadata": {},
   "outputs": [],
   "source": [
    "# set working directory\n",
    "setwd(\"/silos/notebook_collection/obsdata_gaugedata/convert_emodnet_validator/\")\n",
    "\n",
    "# set path to EmodNet data\n",
    "datadir = \"/data/sealevel/emodnet_hourly/\"\n",
    "\n",
    "# read list of stations\n",
    "station_list_file = \"/silos/notebook_collection/obsdata_gaugedata/find_stations/gauge_stations.csv\"\n",
    "\n",
    "# set output directory\n",
    "outputdir = \"./data\""
   ]
  },
  {
   "cell_type": "markdown",
   "metadata": {},
   "source": [
    "Create the output directory"
   ]
  },
  {
   "cell_type": "code",
   "execution_count": 2,
   "metadata": {},
   "outputs": [],
   "source": [
    "if (!dir.exists(outputdir)) { dir.create(outputdir) }"
   ]
  },
  {
   "cell_type": "markdown",
   "metadata": {},
   "source": [
    "Read in the station list"
   ]
  },
  {
   "cell_type": "code",
   "execution_count": 6,
   "metadata": {},
   "outputs": [
    {
     "data": {
      "text/html": [
       "<table>\n",
       "<thead><tr><th scope=col>name</th><th scope=col>lat</th><th scope=col>lon</th><th scope=col>rank</th><th scope=col>min_year</th><th scope=col>max_year</th><th scope=col>timesteps</th></tr></thead>\n",
       "<tbody>\n",
       "\t<tr><td>Kungsholmsfort</td><td>56.1053       </td><td>15.5894       </td><td>1             </td><td>1901          </td><td>2021          </td><td>1173509       </td></tr>\n",
       "\t<tr><td>Ratan         </td><td>63.9861       </td><td>20.8950       </td><td>1             </td><td>1901          </td><td>2021          </td><td>1135665       </td></tr>\n",
       "\t<tr><td>Stockholm     </td><td>59.3242       </td><td>18.0817       </td><td>1             </td><td>1901          </td><td>2021          </td><td>1160374       </td></tr>\n",
       "\t<tr><td>Smogen        </td><td>58.3536       </td><td>11.2178       </td><td>1             </td><td>1910          </td><td>2021          </td><td> 969861       </td></tr>\n",
       "\t<tr><td>Furuogrund    </td><td>64.9158       </td><td>21.2306       </td><td>1             </td><td>1916          </td><td>2021          </td><td> 920860       </td></tr>\n",
       "\t<tr><td>Klagshamn     </td><td>55.5222       </td><td>12.8936       </td><td>1             </td><td>1929          </td><td>2021          </td><td> 779952       </td></tr>\n",
       "</tbody>\n",
       "</table>\n"
      ],
      "text/latex": [
       "\\begin{tabular}{r|lllllll}\n",
       " name & lat & lon & rank & min\\_year & max\\_year & timesteps\\\\\n",
       "\\hline\n",
       "\t Kungsholmsfort & 56.1053        & 15.5894        & 1              & 1901           & 2021           & 1173509       \\\\\n",
       "\t Ratan          & 63.9861        & 20.8950        & 1              & 1901           & 2021           & 1135665       \\\\\n",
       "\t Stockholm      & 59.3242        & 18.0817        & 1              & 1901           & 2021           & 1160374       \\\\\n",
       "\t Smogen         & 58.3536        & 11.2178        & 1              & 1910           & 2021           &  969861       \\\\\n",
       "\t Furuogrund     & 64.9158        & 21.2306        & 1              & 1916           & 2021           &  920860       \\\\\n",
       "\t Klagshamn      & 55.5222        & 12.8936        & 1              & 1929           & 2021           &  779952       \\\\\n",
       "\\end{tabular}\n"
      ],
      "text/markdown": [
       "\n",
       "| name | lat | lon | rank | min_year | max_year | timesteps |\n",
       "|---|---|---|---|---|---|---|\n",
       "| Kungsholmsfort | 56.1053        | 15.5894        | 1              | 1901           | 2021           | 1173509        |\n",
       "| Ratan          | 63.9861        | 20.8950        | 1              | 1901           | 2021           | 1135665        |\n",
       "| Stockholm      | 59.3242        | 18.0817        | 1              | 1901           | 2021           | 1160374        |\n",
       "| Smogen         | 58.3536        | 11.2178        | 1              | 1910           | 2021           |  969861        |\n",
       "| Furuogrund     | 64.9158        | 21.2306        | 1              | 1916           | 2021           |  920860        |\n",
       "| Klagshamn      | 55.5222        | 12.8936        | 1              | 1929           | 2021           |  779952        |\n",
       "\n"
      ],
      "text/plain": [
       "  name           lat     lon     rank min_year max_year timesteps\n",
       "1 Kungsholmsfort 56.1053 15.5894 1    1901     2021     1173509  \n",
       "2 Ratan          63.9861 20.8950 1    1901     2021     1135665  \n",
       "3 Stockholm      59.3242 18.0817 1    1901     2021     1160374  \n",
       "4 Smogen         58.3536 11.2178 1    1910     2021      969861  \n",
       "5 Furuogrund     64.9158 21.2306 1    1916     2021      920860  \n",
       "6 Klagshamn      55.5222 12.8936 1    1929     2021      779952  "
      ]
     },
     "metadata": {},
     "output_type": "display_data"
    },
    {
     "data": {
      "text/html": [
       "6"
      ],
      "text/latex": [
       "6"
      ],
      "text/markdown": [
       "6"
      ],
      "text/plain": [
       "[1] 6"
      ]
     },
     "metadata": {},
     "output_type": "display_data"
    }
   ],
   "source": [
    "station_list = read.csv(station_list_file, sep=\";\", stringsAsFactors = FALSE)\n",
    "head(station_list)\n",
    "max(station_list$rank)"
   ]
  },
  {
   "cell_type": "markdown",
   "metadata": {},
   "source": [
    "The first task is to write the station list. We need to define colors for the different ranks. A low rank means a long record, we put the color to more reddish then."
   ]
  },
  {
   "cell_type": "code",
   "execution_count": 9,
   "metadata": {},
   "outputs": [],
   "source": [
    "color_for_rank = c(\"0.7;0.0;0.0\", \"1.0;0.3;0.0\", \"0.7;0.7;0.0\", \"0.0;0.7;0.0\", \"0.0;0.7;0.7\", \"0.0;0.0;1.0\")"
   ]
  },
  {
   "cell_type": "markdown",
   "metadata": {},
   "source": [
    "We will define a headerline and then merge the correct columns so the data fit the headerline. Then we can write the output to \"stations.csv\"."
   ]
  },
  {
   "cell_type": "code",
   "execution_count": 15,
   "metadata": {},
   "outputs": [
    {
     "data": {
      "text/html": [
       "<ol class=list-inline>\n",
       "\t<li>'56.1053009033203;15.5894002914429;Kungsholmsfort;1.0;0.7;0.0;0.0'</li>\n",
       "\t<li>'63.9860992431641;20.8950004577637;Ratan;1.0;0.7;0.0;0.0'</li>\n",
       "\t<li>'59.3241996765137;18.0816993713379;Stockholm;1.0;0.7;0.0;0.0'</li>\n",
       "\t<li>'58.3535995483398;11.2178001403809;Smogen;1.0;0.7;0.0;0.0'</li>\n",
       "\t<li>'64.9158020019531;21.2306003570557;Furuogrund;1.0;0.7;0.0;0.0'</li>\n",
       "</ol>\n"
      ],
      "text/latex": [
       "\\begin{enumerate*}\n",
       "\\item '56.1053009033203;15.5894002914429;Kungsholmsfort;1.0;0.7;0.0;0.0'\n",
       "\\item '63.9860992431641;20.8950004577637;Ratan;1.0;0.7;0.0;0.0'\n",
       "\\item '59.3241996765137;18.0816993713379;Stockholm;1.0;0.7;0.0;0.0'\n",
       "\\item '58.3535995483398;11.2178001403809;Smogen;1.0;0.7;0.0;0.0'\n",
       "\\item '64.9158020019531;21.2306003570557;Furuogrund;1.0;0.7;0.0;0.0'\n",
       "\\end{enumerate*}\n"
      ],
      "text/markdown": [
       "1. '56.1053009033203;15.5894002914429;Kungsholmsfort;1.0;0.7;0.0;0.0'\n",
       "2. '63.9860992431641;20.8950004577637;Ratan;1.0;0.7;0.0;0.0'\n",
       "3. '59.3241996765137;18.0816993713379;Stockholm;1.0;0.7;0.0;0.0'\n",
       "4. '58.3535995483398;11.2178001403809;Smogen;1.0;0.7;0.0;0.0'\n",
       "5. '64.9158020019531;21.2306003570557;Furuogrund;1.0;0.7;0.0;0.0'\n",
       "\n",
       "\n"
      ],
      "text/plain": [
       "[1] \"56.1053009033203;15.5894002914429;Kungsholmsfort;1.0;0.7;0.0;0.0\"\n",
       "[2] \"63.9860992431641;20.8950004577637;Ratan;1.0;0.7;0.0;0.0\"         \n",
       "[3] \"59.3241996765137;18.0816993713379;Stockholm;1.0;0.7;0.0;0.0\"     \n",
       "[4] \"58.3535995483398;11.2178001403809;Smogen;1.0;0.7;0.0;0.0\"        \n",
       "[5] \"64.9158020019531;21.2306003570557;Furuogrund;1.0;0.7;0.0;0.0\"    "
      ]
     },
     "metadata": {},
     "output_type": "display_data"
    }
   ],
   "source": [
    "headerline = \"latitude;longitude;stationname;depth;red;green;blue\"\n",
    "data_vector = paste0(station_list$lat,\";\",\n",
    "                     station_list$lon,\";\",\n",
    "                     station_list$name,\";\",\n",
    "                     \"1.0;\",\n",
    "                     color_for_rank[station_list$rank])\n",
    "data_vector[1:5]\n",
    "write.table(headerline,\"data/stations.csv\",col.names=FALSE,row.names=FALSE,quote=FALSE)\n",
    "write.table(data_vector,\"data/stations.csv\",append = TRUE,col.names=FALSE,row.names=FALSE,quote=FALSE)"
   ]
  },
  {
   "cell_type": "markdown",
   "metadata": {},
   "source": [
    "We need another file \"timerange.txt\" which states the start and end date of the dataset."
   ]
  },
  {
   "cell_type": "code",
   "execution_count": 19,
   "metadata": {},
   "outputs": [],
   "source": [
    "write(paste0(min(station_list$min_year),\"-01-01\"),file=\"data/timerange.txt\")\n",
    "write(paste0(max(station_list$max_year),\"-01-01\"),file=\"data/timerange.txt\",append=TRUE)\n"
   ]
  },
  {
   "cell_type": "markdown",
   "metadata": {},
   "source": [
    "The \"variables.csv\" file is easy:"
   ]
  },
  {
   "cell_type": "code",
   "execution_count": 20,
   "metadata": {},
   "outputs": [],
   "source": [
    "write(\"varname;unit;longname\",file=\"data/variables.csv\")\n",
    "write(\"sl;m;sealevel\",file=\"data/variables.csv\",append=TRUE)"
   ]
  },
  {
   "cell_type": "markdown",
   "metadata": {},
   "source": [
    "Now we write the actual data to ascii files. We do a loop over the stations."
   ]
  },
  {
   "cell_type": "code",
   "execution_count": 24,
   "metadata": {},
   "outputs": [],
   "source": [
    "library(\"RNetCDF\")\n",
    "if (!dir.exists(\"./data/stationdata\")) {dir.create(\"./data/stationdata\")}\n",
    "for (i in seq_len(nrow(station_list))) {\n",
    "    nc_filename = paste0(datadir,\"EP_ERD_INT_SLEV_AL_TS_NRT_\",station_list$name[i],\".nc\")\n",
    "    nc = open.nc(nc_filename)\n",
    "    time = var.get.nc(nc,\"time\")\n",
    "    sealevel = var.get.nc(nc,\"SLEV\")\n",
    "    close.nc(nc)\n",
    "    \n",
    "    date = as.POSIXct(\"1970-01-01\")+time\n",
    "    datetime = as.numeric(difftime(as.POSIXct(date),as.POSIXct(\"1899-12-30\"),units = \"days\"))\n",
    "    \n",
    "    mydf = data.frame(depth=0.0, datetime=datetime, value=sealevel)\n",
    "    mydf = mydf[is.finite(mydf$datetime) & is.finite(mydf$value),]\n",
    "    write.table(mydf,paste0(\"./data/stationdata/sl_\",tolower(station_list$name[i]),\".csv\"),quote=FALSE,sep=\";\")\n",
    "}"
   ]
  }
 ],
 "metadata": {
  "kernelspec": {
   "display_name": "(3) R",
   "language": "R",
   "name": "iow_r"
  },
  "language_info": {
   "codemirror_mode": "r",
   "file_extension": ".r",
   "mimetype": "text/x-r-source",
   "name": "R",
   "pygments_lexer": "r",
   "version": "3.6.1"
  }
 },
 "nbformat": 4,
 "nbformat_minor": 4
}
