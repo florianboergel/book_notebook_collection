{
 "cells": [
  {
   "cell_type": "markdown",
   "metadata": {},
   "source": [
    "# Processing tide gauge observational data\n",
    "\n",
    "Here you will examples for typical tasks with tide gauge observational data"
   ]
  },
  {
   "cell_type": "markdown",
   "metadata": {},
   "source": [
    "## Corrections\n",
    "[(==>)](correct_gia/correct_gia.ipynb) Correct for glacial isostatic adjustment \n",
    "\n",
    "[(==>)](correct_ibe/correct_ibe.ipynb) Correct for inverse barometric effect"
   ]
  },
  {
   "cell_type": "markdown",
   "metadata": {},
   "source": [
    "## Conversions\n",
    "[==>](convert_emodnet_validator/convert_emodnet_validator.ipynb) Convert EmodNet tide gauge data to validator format\n"
   ]
  },
  {
   "cell_type": "markdown",
   "metadata": {},
   "source": [
    "## Other tasks\n",
    "\n",
    "[==>](find_stations/find_stations.ipynb) Finding the stations with most observations and longest time coverage"
   ]
  },
  {
   "cell_type": "code",
   "execution_count": null,
   "metadata": {},
   "outputs": [],
   "source": []
  }
 ],
 "metadata": {
  "kernelspec": {
   "display_name": "(1) Python 3",
   "language": "python",
   "name": "iow_python"
  },
  "language_info": {
   "codemirror_mode": {
    "name": "ipython",
    "version": 3
   },
   "file_extension": ".py",
   "mimetype": "text/x-python",
   "name": "python",
   "nbconvert_exporter": "python",
   "pygments_lexer": "ipython3",
   "version": "3.7.7"
  }
 },
 "nbformat": 4,
 "nbformat_minor": 4
}
