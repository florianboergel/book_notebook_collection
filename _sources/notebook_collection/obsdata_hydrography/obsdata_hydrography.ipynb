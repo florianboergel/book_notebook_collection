{
 "cells": [
  {
   "cell_type": "markdown",
   "metadata": {},
   "source": [
    "# Processing hydrographic observational data\n",
    "\n",
    "Here you will examples for typical tasks with hydrographic (temperature, salt) observational data"
   ]
  },
  {
   "cell_type": "markdown",
   "metadata": {},
   "source": [
    "## TEOS-10 calculations\n",
    "Thermodynamic analyses should be done with the TEOS-10 package. The first step for these analyses is to convert data to conservative temperature and absolute salinity. This is required for all other tasks.\n",
    "\n",
    "[(==>)](cons_temp/index.ipynb) Converting data to conservative temperature and absolute salinity \n",
    "\n",
    "[(==>)](density_profiles/index.ipynb) Calculating density profiles from temperature and salinity\n",
    "\n",
    "[(==>)](tmd_calculation/index.ipynb) Calculating temperature of maximum density"
   ]
  },
  {
   "cell_type": "markdown",
   "metadata": {},
   "source": [
    "## Other tasks\n",
    "\n",
    "[==>](find_stations/index.ipynb) Finding the stations with most observations and longest time coverage"
   ]
  },
  {
   "cell_type": "code",
   "execution_count": null,
   "metadata": {},
   "outputs": [],
   "source": []
  }
 ],
 "metadata": {
  "kernelspec": {
   "display_name": "(1) Python 3",
   "language": "python",
   "name": "iow_python"
  },
  "language_info": {
   "codemirror_mode": {
    "name": "ipython",
    "version": 3
   },
   "file_extension": ".py",
   "mimetype": "text/x-python",
   "name": "python",
   "nbconvert_exporter": "python",
   "pygments_lexer": "ipython3",
   "version": "3.7.7"
  }
 },
 "nbformat": 4,
 "nbformat_minor": 4
}
