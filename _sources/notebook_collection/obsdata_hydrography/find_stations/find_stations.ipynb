{
 "cells": [
  {
   "cell_type": "markdown",
   "metadata": {},
   "source": [
    "# Finding stations with most data / longest time coverage\n",
    "\n",
    "Here you will take a 4-d (lat-lon-depth-time) dataset and find out those locations in whose proximity most observational data exist.\n",
    "This is good if you want to know the best locations for model validation."
   ]
  },
  {
   "cell_type": "markdown",
   "metadata": {},
   "source": [
    "## Reading in ICES data\n",
    "First, we read in the data from the ICES database which we previously downloaded."
   ]
  },
  {
   "cell_type": "code",
   "execution_count": 698,
   "metadata": {},
   "outputs": [
    {
     "data": {
      "text/html": [
       "<table>\n",
       "<thead><tr><th scope=col>latitude</th><th scope=col>longitude</th><th scope=col>depth</th><th scope=col>salinity</th><th scope=col>temperature</th><th scope=col>date</th><th scope=col>datetime</th></tr></thead>\n",
       "<tbody>\n",
       "\t<tr><td>60.1367   </td><td>19.303    </td><td> 0        </td><td>5.39      </td><td>12.5      </td><td>1877-07-22</td><td>-8196     </td></tr>\n",
       "\t<tr><td>60.1367   </td><td>19.303    </td><td> 5        </td><td>5.39      </td><td>11.8      </td><td>1877-07-22</td><td>-8196     </td></tr>\n",
       "\t<tr><td>60.1367   </td><td>19.303    </td><td>10        </td><td>5.53      </td><td> 9.4      </td><td>1877-07-22</td><td>-8196     </td></tr>\n",
       "\t<tr><td>60.1367   </td><td>19.303    </td><td>15        </td><td>5.89      </td><td> 3.4      </td><td>1877-07-22</td><td>-8196     </td></tr>\n",
       "\t<tr><td>60.1367   </td><td>19.303    </td><td>20        </td><td>6.04      </td><td> 3.3      </td><td>1877-07-22</td><td>-8196     </td></tr>\n",
       "\t<tr><td>60.1367   </td><td>19.303    </td><td>30        </td><td>6.81      </td><td> 1.0      </td><td>1877-07-22</td><td>-8196     </td></tr>\n",
       "</tbody>\n",
       "</table>\n"
      ],
      "text/latex": [
       "\\begin{tabular}{r|lllllll}\n",
       " latitude & longitude & depth & salinity & temperature & date & datetime\\\\\n",
       "\\hline\n",
       "\t 60.1367    & 19.303     &  0         & 5.39       & 12.5       & 1877-07-22 & -8196     \\\\\n",
       "\t 60.1367    & 19.303     &  5         & 5.39       & 11.8       & 1877-07-22 & -8196     \\\\\n",
       "\t 60.1367    & 19.303     & 10         & 5.53       &  9.4       & 1877-07-22 & -8196     \\\\\n",
       "\t 60.1367    & 19.303     & 15         & 5.89       &  3.4       & 1877-07-22 & -8196     \\\\\n",
       "\t 60.1367    & 19.303     & 20         & 6.04       &  3.3       & 1877-07-22 & -8196     \\\\\n",
       "\t 60.1367    & 19.303     & 30         & 6.81       &  1.0       & 1877-07-22 & -8196     \\\\\n",
       "\\end{tabular}\n"
      ],
      "text/markdown": [
       "\n",
       "| latitude | longitude | depth | salinity | temperature | date | datetime |\n",
       "|---|---|---|---|---|---|---|\n",
       "| 60.1367    | 19.303     |  0         | 5.39       | 12.5       | 1877-07-22 | -8196      |\n",
       "| 60.1367    | 19.303     |  5         | 5.39       | 11.8       | 1877-07-22 | -8196      |\n",
       "| 60.1367    | 19.303     | 10         | 5.53       |  9.4       | 1877-07-22 | -8196      |\n",
       "| 60.1367    | 19.303     | 15         | 5.89       |  3.4       | 1877-07-22 | -8196      |\n",
       "| 60.1367    | 19.303     | 20         | 6.04       |  3.3       | 1877-07-22 | -8196      |\n",
       "| 60.1367    | 19.303     | 30         | 6.81       |  1.0       | 1877-07-22 | -8196      |\n",
       "\n"
      ],
      "text/plain": [
       "  latitude longitude depth salinity temperature date       datetime\n",
       "1 60.1367  19.303     0    5.39     12.5        1877-07-22 -8196   \n",
       "2 60.1367  19.303     5    5.39     11.8        1877-07-22 -8196   \n",
       "3 60.1367  19.303    10    5.53      9.4        1877-07-22 -8196   \n",
       "4 60.1367  19.303    15    5.89      3.4        1877-07-22 -8196   \n",
       "5 60.1367  19.303    20    6.04      3.3        1877-07-22 -8196   \n",
       "6 60.1367  19.303    30    6.81      1.0        1877-07-22 -8196   "
      ]
     },
     "metadata": {},
     "output_type": "display_data"
    }
   ],
   "source": [
    "setwd(\"/silos/notebook_collection/obsdata_hydrography/find_stations/\")\n",
    "icesdata = read.csv(\"/data/obs/ices_ts/ts_1877-2018.csv\", sep=\";\")\n",
    "head(icesdata)"
   ]
  },
  {
   "cell_type": "code",
   "execution_count": null,
   "metadata": {},
   "outputs": [],
   "source": []
  },
  {
   "cell_type": "code",
   "execution_count": 703,
   "metadata": {},
   "outputs": [],
   "source": [
    "lonrange=c(-5,31)\n",
    "latrange=c(50,67)\n",
    "icesdata = icesdata[icesdata$latitude > latrange[1],]\n",
    "icesdata = icesdata[icesdata$latitude < latrange[2],]\n",
    "icesdata = icesdata[icesdata$longitude > lonrange[1],]\n",
    "icesdata = icesdata[icesdata$longitude < lonrange[2],]"
   ]
  },
  {
   "cell_type": "code",
   "execution_count": 704,
   "metadata": {},
   "outputs": [],
   "source": [
    "icesdata$year = as.numeric(format(as.Date(icesdata$date),\"%Y\"))"
   ]
  },
  {
   "cell_type": "markdown",
   "metadata": {},
   "source": [
    "## Defining boxes\n",
    "\n",
    "Let us define a grid over North Sea and Baltic Sea so we can see in which boxes there are the most observations."
   ]
  },
  {
   "cell_type": "code",
   "execution_count": 705,
   "metadata": {},
   "outputs": [
    {
     "data": {
      "text/html": [
       "-4.9998"
      ],
      "text/latex": [
       "-4.9998"
      ],
      "text/markdown": [
       "-4.9998"
      ],
      "text/plain": [
       "[1] -4.9998"
      ]
     },
     "metadata": {},
     "output_type": "display_data"
    }
   ],
   "source": [
    "dlon = 0.2\n",
    "dlat = 0.1\n",
    "min(icesdata$lon)"
   ]
  },
  {
   "cell_type": "markdown",
   "metadata": {},
   "source": [
    "We define two axes with the given spacing."
   ]
  },
  {
   "cell_type": "code",
   "execution_count": 706,
   "metadata": {},
   "outputs": [],
   "source": [
    "xstart = seq(from=lonrange[1],to=lonrange[2],by=dlon)\n",
    "ystart = seq(from=latrange[1],to=latrange[2],by=dlat)"
   ]
  },
  {
   "cell_type": "markdown",
   "metadata": {},
   "source": [
    "We calculate the longitude and latitude index on this axis for all observations."
   ]
  },
  {
   "cell_type": "code",
   "execution_count": 707,
   "metadata": {},
   "outputs": [],
   "source": [
    "icesdata$latindex = floor((icesdata$latitude - latrange[1])/dlat)+1\n",
    "icesdata$lonindex = floor((icesdata$longitude - lonrange[1])/dlon)+1"
   ]
  },
  {
   "cell_type": "markdown",
   "metadata": {},
   "source": [
    "We see how many observations are there for each year and box."
   ]
  },
  {
   "cell_type": "code",
   "execution_count": 708,
   "metadata": {},
   "outputs": [],
   "source": [
    "data_in_box = aggregate(icesdata[,c(\"salinity\")], by=list(lonindex=icesdata$lonindex,latindex=icesdata$latindex,year=icesdata$year), FUN=length)"
   ]
  },
  {
   "cell_type": "markdown",
   "metadata": {},
   "source": [
    "We aggregate this again to see for how many years there are any measurements, and how many measurements are in this box in total."
   ]
  },
  {
   "cell_type": "code",
   "execution_count": 709,
   "metadata": {},
   "outputs": [],
   "source": [
    "years_in_box = aggregate(data_in_box[,c(\"year\")], by=list(lonindex=data_in_box$lonindex,latindex=data_in_box$latindex), FUN=length)"
   ]
  },
  {
   "cell_type": "code",
   "execution_count": 710,
   "metadata": {},
   "outputs": [],
   "source": [
    "measurements_in_box = aggregate(data_in_box[,c(\"x\")], by=list(lonindex=data_in_box$lonindex,latindex=data_in_box$latindex), FUN=sum)"
   ]
  },
  {
   "cell_type": "markdown",
   "metadata": {},
   "source": [
    "We merge these two data.frames to see in how many boxes there are at least 500 observations from at least 50 years."
   ]
  },
  {
   "cell_type": "code",
   "execution_count": 711,
   "metadata": {},
   "outputs": [],
   "source": [
    "measurements_in_box$years = years_in_box$x\n",
    "measurements_in_box$rank = -1"
   ]
  },
  {
   "cell_type": "code",
   "execution_count": 712,
   "metadata": {},
   "outputs": [
    {
     "name": "stdout",
     "output_type": "stream",
     "text": [
      "[1] \"rank 1: 6 stations\"\n"
     ]
    }
   ],
   "source": [
    "myrank = 1\n",
    "measurements_in_box$rank[(measurements_in_box$years>80) & (measurements_in_box$x > 15000) & (measurements_in_box$rank==-1)]=myrank\n",
    "print(paste0(\"rank \",myrank,\": \",sum(measurements_in_box$rank==myrank),\" stations\"))\n",
    "for (i in seq_len(nrow(measurements_in_box))) {\n",
    "    if (measurements_in_box$rank[i] == myrank) {\n",
    "        for (j in seq_len(nrow(measurements_in_box))) {\n",
    "            if (measurements_in_box$rank[j] == -1) {\n",
    "                if (abs(measurements_in_box$latindex[i]-measurements_in_box$latindex[j]) < 5) {\n",
    "                    if (abs(measurements_in_box$lonindex[i]-measurements_in_box$lonindex[j]) < 5) {\n",
    "                        measurements_in_box$rank[j]=0\n",
    "                    }\n",
    "                }\n",
    "            }\n",
    "        }\n",
    "    }\n",
    "}"
   ]
  },
  {
   "cell_type": "code",
   "execution_count": 713,
   "metadata": {},
   "outputs": [
    {
     "name": "stdout",
     "output_type": "stream",
     "text": [
      "[1] \"rank 2: 12 stations\"\n"
     ]
    }
   ],
   "source": [
    "myrank = 2\n",
    "measurements_in_box$rank[(measurements_in_box$years>75) & (measurements_in_box$x > 10000) & (measurements_in_box$rank==-1)]=myrank\n",
    "print(paste0(\"rank \",myrank,\": \",sum(measurements_in_box$rank==myrank),\" stations\"))\n",
    "for (i in seq_len(nrow(measurements_in_box))) {\n",
    "    if (measurements_in_box$rank[i] == myrank) {\n",
    "        for (j in seq_len(nrow(measurements_in_box))) {\n",
    "            if (measurements_in_box$rank[j] == -1) {\n",
    "                if (abs(measurements_in_box$latindex[i]-measurements_in_box$latindex[j]) < 5) {\n",
    "                    if (abs(measurements_in_box$lonindex[i]-measurements_in_box$lonindex[j]) < 5) {\n",
    "                        measurements_in_box$rank[j]=0\n",
    "                    }\n",
    "                }\n",
    "            }\n",
    "        }\n",
    "    }\n",
    "}"
   ]
  },
  {
   "cell_type": "code",
   "execution_count": 714,
   "metadata": {},
   "outputs": [
    {
     "name": "stdout",
     "output_type": "stream",
     "text": [
      "[1] \"rank 3: 8 stations\"\n"
     ]
    }
   ],
   "source": [
    "myrank = 3\n",
    "measurements_in_box$rank[(measurements_in_box$years>70) & (measurements_in_box$x > 8000) & (measurements_in_box$rank==-1)]=myrank\n",
    "print(paste0(\"rank \",myrank,\": \",sum(measurements_in_box$rank==myrank),\" stations\"))\n",
    "for (i in seq_len(nrow(measurements_in_box))) {\n",
    "    if (measurements_in_box$rank[i] == myrank) {\n",
    "        for (j in seq_len(nrow(measurements_in_box))) {\n",
    "            if (measurements_in_box$rank[j] == -1) {\n",
    "                if (abs(measurements_in_box$latindex[i]-measurements_in_box$latindex[j]) < 5) {\n",
    "                    if (abs(measurements_in_box$lonindex[i]-measurements_in_box$lonindex[j]) < 5) {\n",
    "                        measurements_in_box$rank[j]=0\n",
    "                    }\n",
    "                }\n",
    "            }\n",
    "        }\n",
    "    }\n",
    "}"
   ]
  },
  {
   "cell_type": "code",
   "execution_count": 715,
   "metadata": {},
   "outputs": [
    {
     "name": "stdout",
     "output_type": "stream",
     "text": [
      "[1] \"rank 4: 8 stations\"\n"
     ]
    }
   ],
   "source": [
    "myrank = 4\n",
    "measurements_in_box$rank[(measurements_in_box$years>65) & (measurements_in_box$x > 7000) & (measurements_in_box$rank==-1)]=myrank\n",
    "print(paste0(\"rank \",myrank,\": \",sum(measurements_in_box$rank==myrank),\" stations\"))\n",
    "for (i in seq_len(nrow(measurements_in_box))) {\n",
    "    if (measurements_in_box$rank[i] == myrank) {\n",
    "        for (j in seq_len(nrow(measurements_in_box))) {\n",
    "            if (measurements_in_box$rank[j] == -1) {\n",
    "                if (abs(measurements_in_box$latindex[i]-measurements_in_box$latindex[j]) < 5) {\n",
    "                    if (abs(measurements_in_box$lonindex[i]-measurements_in_box$lonindex[j]) < 5) {\n",
    "                        measurements_in_box$rank[j]=0\n",
    "                    }\n",
    "                }\n",
    "            }\n",
    "        }\n",
    "    }\n",
    "}"
   ]
  },
  {
   "cell_type": "code",
   "execution_count": 716,
   "metadata": {},
   "outputs": [
    {
     "name": "stdout",
     "output_type": "stream",
     "text": [
      "[1] \"rank 5: 7 stations\"\n"
     ]
    }
   ],
   "source": [
    "myrank = 5\n",
    "measurements_in_box$rank[(measurements_in_box$years>60) & (measurements_in_box$x > 7000) & (measurements_in_box$rank==-1)]=myrank\n",
    "print(paste0(\"rank \",myrank,\": \",sum(measurements_in_box$rank==myrank),\" stations\"))\n",
    "for (i in seq_len(nrow(measurements_in_box))) {\n",
    "    if (measurements_in_box$rank[i] == myrank) {\n",
    "        for (j in seq_len(nrow(measurements_in_box))) {\n",
    "            if (measurements_in_box$rank[j] == -1) {\n",
    "                if (abs(measurements_in_box$latindex[i]-measurements_in_box$latindex[j]) < 5) {\n",
    "                    if (abs(measurements_in_box$lonindex[i]-measurements_in_box$lonindex[j]) < 5) {\n",
    "                        measurements_in_box$rank[j]=0\n",
    "                    }\n",
    "                }\n",
    "            }\n",
    "        }\n",
    "    }\n",
    "}"
   ]
  },
  {
   "cell_type": "code",
   "execution_count": 717,
   "metadata": {},
   "outputs": [
    {
     "name": "stdout",
     "output_type": "stream",
     "text": [
      "[1] \"rank 6: 5 stations\"\n"
     ]
    }
   ],
   "source": [
    "myrank = 6\n",
    "measurements_in_box$rank[(measurements_in_box$years>55) & (measurements_in_box$x > 7000) & (measurements_in_box$rank==-1)]=myrank\n",
    "print(paste0(\"rank \",myrank,\": \",sum(measurements_in_box$rank==myrank),\" stations\"))\n",
    "for (i in seq_len(nrow(measurements_in_box))) {\n",
    "    if (measurements_in_box$rank[i] == myrank) {\n",
    "        for (j in seq_len(nrow(measurements_in_box))) {\n",
    "            if (measurements_in_box$rank[j] == -1) {\n",
    "                if (abs(measurements_in_box$latindex[i]-measurements_in_box$latindex[j]) < 5) {\n",
    "                    if (abs(measurements_in_box$lonindex[i]-measurements_in_box$lonindex[j]) < 5) {\n",
    "                        measurements_in_box$rank[j]=0\n",
    "                    }\n",
    "                }\n",
    "            }\n",
    "        }\n",
    "    }\n",
    "}"
   ]
  },
  {
   "cell_type": "code",
   "execution_count": 718,
   "metadata": {},
   "outputs": [
    {
     "name": "stdout",
     "output_type": "stream",
     "text": [
      "[1] \"rank 7: 11 stations\"\n"
     ]
    }
   ],
   "source": [
    "myrank = 7 # Southern North Sea only\n",
    "measurements_in_box$rank[(measurements_in_box$years>20) & (measurements_in_box$x > 1500) & (measurements_in_box$rank==-1)&\n",
    "                        (xstart[measurements_in_box$lonindex]<7.5) & (xstart[measurements_in_box$lonindex]>0) &\n",
    "                        (ystart[measurements_in_box$latindex]<57.5)] = myrank\n",
    "print(paste0(\"rank \",myrank,\": \",sum(measurements_in_box$rank==myrank),\" stations\"))\n",
    "for (i in seq_len(nrow(measurements_in_box))) {\n",
    "    if (measurements_in_box$rank[i] == myrank) {\n",
    "        for (j in seq_len(nrow(measurements_in_box))) {\n",
    "            if (measurements_in_box$rank[j] == -1) {\n",
    "                if (abs(measurements_in_box$latindex[i]-measurements_in_box$latindex[j]) < 5) {\n",
    "                    if (abs(measurements_in_box$lonindex[i]-measurements_in_box$lonindex[j]) < 5) {\n",
    "                        measurements_in_box$rank[j]=0\n",
    "                    }\n",
    "                }\n",
    "            }\n",
    "        }\n",
    "    }\n",
    "}"
   ]
  },
  {
   "cell_type": "code",
   "execution_count": 719,
   "metadata": {},
   "outputs": [
    {
     "name": "stdout",
     "output_type": "stream",
     "text": [
      "[1] \"rank 7: 13 stations\"\n"
     ]
    }
   ],
   "source": [
    "myrank = 7 # Gulf of Riga\n",
    "measurements_in_box$rank[(measurements_in_box$years>30) & (measurements_in_box$x > 1800) & (measurements_in_box$rank==-1)&\n",
    "                        (xstart[measurements_in_box$lonindex]>22.0) &\n",
    "                        (ystart[measurements_in_box$latindex]<58.5)] = myrank\n",
    "print(paste0(\"rank \",myrank,\": \",sum(measurements_in_box$rank==myrank),\" stations\"))\n",
    "for (i in seq_len(nrow(measurements_in_box))) {\n",
    "    if (measurements_in_box$rank[i] == myrank) {\n",
    "        for (j in seq_len(nrow(measurements_in_box))) {\n",
    "            if (measurements_in_box$rank[j] == -1) {\n",
    "                if (abs(measurements_in_box$latindex[i]-measurements_in_box$latindex[j]) < 5) {\n",
    "                    if (abs(measurements_in_box$lonindex[i]-measurements_in_box$lonindex[j]) < 5) {\n",
    "                        measurements_in_box$rank[j]=0\n",
    "                    }\n",
    "                }\n",
    "            }\n",
    "        }\n",
    "    }\n",
    "}"
   ]
  },
  {
   "cell_type": "code",
   "execution_count": 720,
   "metadata": {},
   "outputs": [
    {
     "name": "stdout",
     "output_type": "stream",
     "text": [
      "[1] \"rank 7: 15 stations\"\n"
     ]
    }
   ],
   "source": [
    "myrank = 7 # Northern Baltic\n",
    "measurements_in_box$rank[(measurements_in_box$years>60) & (measurements_in_box$x > 4000) & (measurements_in_box$rank==-1)&\n",
    "                        (xstart[measurements_in_box$lonindex]>15.0) &\n",
    "                        (ystart[measurements_in_box$latindex]>59.0)] = myrank\n",
    "print(paste0(\"rank \",myrank,\": \",sum(measurements_in_box$rank==myrank),\" stations\"))\n",
    "for (i in seq_len(nrow(measurements_in_box))) {\n",
    "    if (measurements_in_box$rank[i] == myrank) {\n",
    "        for (j in seq_len(nrow(measurements_in_box))) {\n",
    "            if (measurements_in_box$rank[j] == -1) {\n",
    "                if (abs(measurements_in_box$latindex[i]-measurements_in_box$latindex[j]) < 5) {\n",
    "                    if (abs(measurements_in_box$lonindex[i]-measurements_in_box$lonindex[j]) < 5) {\n",
    "                        measurements_in_box$rank[j]=0\n",
    "                    }\n",
    "                }\n",
    "            }\n",
    "        }\n",
    "    }\n",
    "}"
   ]
  },
  {
   "cell_type": "code",
   "execution_count": 721,
   "metadata": {},
   "outputs": [
    {
     "name": "stdout",
     "output_type": "stream",
     "text": [
      "[1] \"rank 7: 19 stations\"\n"
     ]
    }
   ],
   "source": [
    "myrank = 7 # Very Northern Baltic\n",
    "measurements_in_box$rank[(measurements_in_box$years>55) & (measurements_in_box$x > 3000) & (measurements_in_box$rank==-1)&\n",
    "                        (xstart[measurements_in_box$lonindex]>15.0) &\n",
    "                        (ystart[measurements_in_box$latindex]>60.0)] = myrank\n",
    "print(paste0(\"rank \",myrank,\": \",sum(measurements_in_box$rank==myrank),\" stations\"))\n",
    "for (i in seq_len(nrow(measurements_in_box))) {\n",
    "    if (measurements_in_box$rank[i] == myrank) {\n",
    "        for (j in seq_len(nrow(measurements_in_box))) {\n",
    "            if (measurements_in_box$rank[j] == -1) {\n",
    "                if (abs(measurements_in_box$latindex[i]-measurements_in_box$latindex[j]) < 5) {\n",
    "                    if (abs(measurements_in_box$lonindex[i]-measurements_in_box$lonindex[j]) < 5) {\n",
    "                        measurements_in_box$rank[j]=0\n",
    "                    }\n",
    "                }\n",
    "            }\n",
    "        }\n",
    "    }\n",
    "}"
   ]
  },
  {
   "cell_type": "code",
   "execution_count": 722,
   "metadata": {},
   "outputs": [
    {
     "name": "stdout",
     "output_type": "stream",
     "text": [
      "[1] \"rank 7: 21 stations\"\n"
     ]
    }
   ],
   "source": [
    "myrank = 7 # Southern Baltic\n",
    "measurements_in_box$rank[(measurements_in_box$years>65) & (measurements_in_box$x > 4000) & (measurements_in_box$rank==-1)&\n",
    "                        (xstart[measurements_in_box$lonindex]>10.0) &\n",
    "                        (ystart[measurements_in_box$latindex]<55.0)] = myrank\n",
    "print(paste0(\"rank \",myrank,\": \",sum(measurements_in_box$rank==myrank),\" stations\"))\n",
    "for (i in seq_len(nrow(measurements_in_box))) {\n",
    "    if (measurements_in_box$rank[i] == myrank) {\n",
    "        for (j in seq_len(nrow(measurements_in_box))) {\n",
    "            if (measurements_in_box$rank[j] == -1) {\n",
    "                if (abs(measurements_in_box$latindex[i]-measurements_in_box$latindex[j]) < 5) {\n",
    "                    if (abs(measurements_in_box$lonindex[i]-measurements_in_box$lonindex[j]) < 5) {\n",
    "                        measurements_in_box$rank[j]=0\n",
    "                    }\n",
    "                }\n",
    "            }\n",
    "        }\n",
    "    }\n",
    "}"
   ]
  },
  {
   "cell_type": "code",
   "execution_count": 723,
   "metadata": {},
   "outputs": [
    {
     "name": "stdout",
     "output_type": "stream",
     "text": [
      "[1] \"rank 7: 23 stations\"\n"
     ]
    }
   ],
   "source": [
    "myrank = 7 # Very southern Baltic Sea\n",
    "measurements_in_box$rank[(measurements_in_box$years>50) & (measurements_in_box$x > 1500) & (measurements_in_box$rank==-1)&\n",
    "                        (xstart[measurements_in_box$lonindex]>10.0) &\n",
    "                        (ystart[measurements_in_box$latindex]<54.5)] = myrank\n",
    "print(paste0(\"rank \",myrank,\": \",sum(measurements_in_box$rank==myrank),\" stations\"))\n",
    "for (i in seq_len(nrow(measurements_in_box))) {\n",
    "    if (measurements_in_box$rank[i] == myrank) {\n",
    "        for (j in seq_len(nrow(measurements_in_box))) {\n",
    "            if (measurements_in_box$rank[j] == -1) {\n",
    "                if (abs(measurements_in_box$latindex[i]-measurements_in_box$latindex[j]) < 5) {\n",
    "                    if (abs(measurements_in_box$lonindex[i]-measurements_in_box$lonindex[j]) < 5) {\n",
    "                        measurements_in_box$rank[j]=0\n",
    "                    }\n",
    "                }\n",
    "            }\n",
    "        }\n",
    "    }\n",
    "}"
   ]
  },
  {
   "cell_type": "code",
   "execution_count": 724,
   "metadata": {},
   "outputs": [
    {
     "name": "stdout",
     "output_type": "stream",
     "text": [
      "[1] \"rank 7: 25 stations\"\n"
     ]
    }
   ],
   "source": [
    "myrank = 7 # German Bight\n",
    "measurements_in_box$rank[(measurements_in_box$years>35) & (measurements_in_box$x > 900) & (measurements_in_box$rank==-1)&\n",
    "                        (xstart[measurements_in_box$lonindex]>6.0) & (xstart[measurements_in_box$lonindex]<9.5) &\n",
    "                        (ystart[measurements_in_box$latindex]>53.0) & (ystart[measurements_in_box$latindex]<55.0)] = myrank\n",
    "print(paste0(\"rank \",myrank,\": \",sum(measurements_in_box$rank==myrank),\" stations\"))\n",
    "for (i in seq_len(nrow(measurements_in_box))) {\n",
    "    if (measurements_in_box$rank[i] == myrank) {\n",
    "        for (j in seq_len(nrow(measurements_in_box))) {\n",
    "            if (measurements_in_box$rank[j] == -1) {\n",
    "                if (abs(measurements_in_box$latindex[i]-measurements_in_box$latindex[j]) < 5) {\n",
    "                    if (abs(measurements_in_box$lonindex[i]-measurements_in_box$lonindex[j]) < 5) {\n",
    "                        measurements_in_box$rank[j]=0\n",
    "                    }\n",
    "                }\n",
    "            }\n",
    "        }\n",
    "    }\n",
    "}"
   ]
  },
  {
   "cell_type": "code",
   "execution_count": 725,
   "metadata": {},
   "outputs": [
    {
     "name": "stdout",
     "output_type": "stream",
     "text": [
      "[1] \"rank 7: 28 stations\"\n"
     ]
    }
   ],
   "source": [
    "myrank = 7 # Western North Sea\n",
    "measurements_in_box$rank[(measurements_in_box$years>35) & (measurements_in_box$x > 1500) & (measurements_in_box$rank==-1)&\n",
    "                        (xstart[measurements_in_box$lonindex]>-2.0) & (xstart[measurements_in_box$lonindex]<5.0) &\n",
    "                        (ystart[measurements_in_box$latindex]>53.0) & (ystart[measurements_in_box$latindex]<56.5)] = myrank\n",
    "print(paste0(\"rank \",myrank,\": \",sum(measurements_in_box$rank==myrank),\" stations\"))\n",
    "for (i in seq_len(nrow(measurements_in_box))) {\n",
    "    if (measurements_in_box$rank[i] == myrank) {\n",
    "        for (j in seq_len(nrow(measurements_in_box))) {\n",
    "            if (measurements_in_box$rank[j] == -1) {\n",
    "                if (abs(measurements_in_box$latindex[i]-measurements_in_box$latindex[j]) < 5) {\n",
    "                    if (abs(measurements_in_box$lonindex[i]-measurements_in_box$lonindex[j]) < 5) {\n",
    "                        measurements_in_box$rank[j]=0\n",
    "                    }\n",
    "                }\n",
    "            }\n",
    "        }\n",
    "    }\n",
    "}"
   ]
  },
  {
   "cell_type": "code",
   "execution_count": 726,
   "metadata": {},
   "outputs": [
    {
     "name": "stdout",
     "output_type": "stream",
     "text": [
      "[1] \"rank 7: 30 stations\"\n"
     ]
    }
   ],
   "source": [
    "myrank = 7 # Jütland west coast\n",
    "measurements_in_box$rank[(measurements_in_box$years>30) & (measurements_in_box$x > 1300) & (measurements_in_box$rank==-1)&\n",
    "                        (xstart[measurements_in_box$lonindex]>5) & (xstart[measurements_in_box$lonindex]<8) &\n",
    "                        (ystart[measurements_in_box$latindex]>56.0) & (ystart[measurements_in_box$latindex]<57.5)] = myrank\n",
    "print(paste0(\"rank \",myrank,\": \",sum(measurements_in_box$rank==myrank),\" stations\"))\n",
    "for (i in seq_len(nrow(measurements_in_box))) {\n",
    "    if (measurements_in_box$rank[i] == myrank) {\n",
    "        for (j in seq_len(nrow(measurements_in_box))) {\n",
    "            if (measurements_in_box$rank[j] == -1) {\n",
    "                if (abs(measurements_in_box$latindex[i]-measurements_in_box$latindex[j]) < 5) {\n",
    "                    if (abs(measurements_in_box$lonindex[i]-measurements_in_box$lonindex[j]) < 5) {\n",
    "                        measurements_in_box$rank[j]=0\n",
    "                    }\n",
    "                }\n",
    "            }\n",
    "        }\n",
    "    }\n",
    "}"
   ]
  },
  {
   "cell_type": "markdown",
   "metadata": {},
   "source": [
    "Kick out neighbours, keeping the longer record."
   ]
  },
  {
   "cell_type": "code",
   "execution_count": 727,
   "metadata": {},
   "outputs": [],
   "source": [
    "for (i in seq_len(nrow(measurements_in_box))) {\n",
    "    if (measurements_in_box$rank[i] > 0) {\n",
    "        for (j in seq(from=i+1,to=nrow(measurements_in_box))) {\n",
    "            if (measurements_in_box$rank[j] > 0) {\n",
    "                if (abs(measurements_in_box$latindex[i]-measurements_in_box$latindex[j]) < 3) {\n",
    "                    if (abs(measurements_in_box$lonindex[i]-measurements_in_box$lonindex[j]) < 3) {\n",
    "                        if (measurements_in_box$years[i] > measurements_in_box$years[j]) {\n",
    "                            measurements_in_box$rank[j] = -1\n",
    "                        } else {\n",
    "                            measurements_in_box$rank[i] = -1\n",
    "                        }\n",
    "                    }\n",
    "                }\n",
    "            }\n",
    "        }\n",
    "    }\n",
    "}"
   ]
  },
  {
   "cell_type": "markdown",
   "metadata": {},
   "source": [
    "Let us plot where these boxes are."
   ]
  },
  {
   "cell_type": "code",
   "execution_count": null,
   "metadata": {},
   "outputs": [],
   "source": []
  },
  {
   "cell_type": "code",
   "execution_count": 728,
   "metadata": {},
   "outputs": [
    {
     "name": "stderr",
     "output_type": "stream",
     "text": [
      "Warning message:\n",
      "\"Removed 28784 rows containing missing values (geom_path).\"Warning message:\n",
      "\"Removed 9347 rows containing missing values (geom_path).\""
     ]
    },
    {
     "data": {
      "image/png": "[encoded data removed]",
      "text/plain": [
       "plot without title"
      ]
     },
     "metadata": {},
     "output_type": "display_data"
    }
   ],
   "source": [
    "boxes_to_plot = measurements_in_box[measurements_in_box$rank>0,]\n",
    "boxes_to_plot$xmin = xstart[boxes_to_plot$lonindex]\n",
    "boxes_to_plot$xmax = xstart[boxes_to_plot$lonindex]+dlon\n",
    "boxes_to_plot$ymin = ystart[boxes_to_plot$latindex]\n",
    "boxes_to_plot$ymax = ystart[boxes_to_plot$latindex]+dlat\n",
    "coastline=read.csv(\"coastline_world.txt\",sep=\"\",header=FALSE)\n",
    "coastline_baltic=read.csv(\"coastline_baltic.txt\",sep=\"\",header=FALSE)\n",
    "library(ggplot2)\n",
    "ggplot()+\n",
    "  geom_rect(data=boxes_to_plot,mapping=aes(xmin=xmin,xmax=xmax,ymin=ymin,ymax=ymax,fill=rank))+\n",
    "  scale_fill_gradientn(colors=rainbow(100,end = 0.75,v=0.7))+\n",
    "  geom_path(data=coastline[coastline$V1<0,],mapping=aes(x=V1,y=V2))+\n",
    "  geom_path(data=coastline_baltic,mapping=aes(x=V1,y=V2))+\n",
    "  scale_x_continuous(limits = lonrange)+\n",
    "  scale_y_continuous(limits = latrange)\n",
    "  "
   ]
  },
  {
   "cell_type": "markdown",
   "metadata": {},
   "source": [
    "Now we need to get the coordinates where the most frequent observations were made."
   ]
  },
  {
   "cell_type": "code",
   "execution_count": 757,
   "metadata": {},
   "outputs": [],
   "source": [
    "calculate_mode <- function(x) { # this function finds the most frequent value\n",
    "  uniqx <- unique(na.omit(x))\n",
    "  uniqx[which.max(tabulate(match(x, uniqx)))]\n",
    "}\n",
    "boxes_to_plot$longitude = NA\n",
    "boxes_to_plot$latitude  = NA\n",
    "for (i in seq_len(nrow(boxes_to_plot))) {\n",
    "    mydata = icesdata[(icesdata$latindex == boxes_to_plot$latindex[i]) &  (icesdata$lonindex == boxes_to_plot$lonindex[i]),]\n",
    "    mydata$mylatlon = mydata$latitude+mydata$longitude*0.001\n",
    "    most_frequent_value = sort(table(mydata$latlon),decreasing=TRUE)[1]\n",
    "    most_frequent_value = calculate_mode(mydata$mylatlon)\n",
    "    myindex = which(mydata$mylatlon==most_frequent_value)[1]\n",
    "    boxes_to_plot$latitude[i]=mydata$latitude[myindex]\n",
    "    boxes_to_plot$longitude[i]=mydata$longitude[myindex]\n",
    "}"
   ]
  },
  {
   "cell_type": "markdown",
   "metadata": {},
   "source": [
    "Now let us find the names of the five closest stations from the ICES station name table"
   ]
  },
  {
   "cell_type": "code",
   "execution_count": 760,
   "metadata": {},
   "outputs": [
    {
     "data": {
      "text/html": [
       "<table>\n",
       "<thead><tr><th scope=col>Station</th><th scope=col>Header</th><th scope=col>Station_Code</th><th scope=col>Station_Country</th><th scope=col>Station_Name</th><th scope=col>Station_LongName</th><th scope=col>Station_ActiveFromDate</th><th scope=col>Station_ActiveUntilDate</th><th scope=col>Station_ProgramGovernance</th><th scope=col>Station_StationGovernance</th><th scope=col>...</th><th scope=col>Station_Latitude</th><th scope=col>Station_LatitudeRange</th><th scope=col>Station_Longitude</th><th scope=col>Station_LongitudeRange</th><th scope=col>Station_Geometry</th><th scope=col>Station_DataType</th><th scope=col>Station_WLTYP</th><th scope=col>Station_MSTAT</th><th scope=col>Station_Notes</th><th scope=col>Station_Deprecated</th></tr></thead>\n",
       "<tbody>\n",
       "\t<tr><td>Station                                                    </td><td>Record                                                     </td><td>1                                                          </td><td>BE                                                         </td><td>BCP                                                        </td><td>                                                           </td><td>1997                                                       </td><td>                                                           </td><td>O                                                          </td><td>1578                                                       </td><td>...                                                        </td><td>51.33333                                                   </td><td>0.00266                                                    </td><td>2.83333                                                    </td><td>0.00266                                                    </td><td>                                                           </td><td>CF                                                         </td><td>MO                                                         </td><td>B                                                          </td><td>Center of the area sampled as the Belgian Continental Plat.</td><td>false                                                      </td></tr>\n",
       "\t<tr><td>Station                                                    </td><td>Record                                                     </td><td>2                                                          </td><td>BE                                                         </td><td>DVZ_J99                                                    </td><td>                                                           </td><td>1977                                                       </td><td>                                                           </td><td>O                                                          </td><td>1578                                                       </td><td>...                                                        </td><td>53.25000                                                   </td><td>0.00267                                                    </td><td>2.50000                                                    </td><td>0.00267                                                    </td><td>                                                           </td><td>                                                           </td><td>MO                                                         </td><td>B                                                          </td><td>                                                           </td><td>false                                                      </td></tr>\n",
       "\t<tr><td>Station                                                    </td><td>Record                                                     </td><td>3                                                          </td><td>BE                                                         </td><td>DVZ_KNO                                                    </td><td>                                                           </td><td>1997                                                       </td><td>                                                           </td><td>O                                                          </td><td>1478                                                       </td><td>...                                                        </td><td>51.36483                                                   </td><td>0.00266                                                    </td><td>3.33500                                                    </td><td>0.00267                                                    </td><td>                                                           </td><td>CF                                                         </td><td>C                                                          </td><td>B                                                          </td><td>For collection of mussels.                                 </td><td>false                                                      </td></tr>\n",
       "\t<tr><td>Station                                                    </td><td>Record                                                     </td><td>4                                                          </td><td>BE                                                         </td><td>DVZ_NWP                                                    </td><td>                                                           </td><td>1997                                                       </td><td>                                                           </td><td>O                                                          </td><td>1478                                                       </td><td>...                                                        </td><td>51.15600                                                   </td><td>0.00267                                                    </td><td>2.73067                                                    </td><td>0.00267                                                    </td><td>                                                           </td><td>CF                                                         </td><td>C                                                          </td><td>B                                                          </td><td>For collection of mussels.                                 </td><td>false                                                      </td></tr>\n",
       "\t<tr><td>Station                                                    </td><td>Record                                                     </td><td>5                                                          </td><td>BE                                                         </td><td>DVZ_OS                                                     </td><td>                                                           </td><td>1977                                                       </td><td>                                                           </td><td>O                                                          </td><td>1578                                                       </td><td>...                                                        </td><td>51.37500                                                   </td><td>0.00267                                                    </td><td>3.76667                                                    </td><td>0.00267                                                    </td><td>                                                           </td><td>                                                           </td><td>CE                                                         </td><td>B                                                          </td><td>                                                           </td><td>false                                                      </td></tr>\n",
       "\t<tr><td>Station                                                    </td><td>Record                                                     </td><td>6                                                          </td><td>BE                                                         </td><td>DVZ_OST                                                    </td><td>                                                           </td><td>1997                                                       </td><td>                                                           </td><td>O                                                          </td><td>1478                                                       </td><td>...                                                        </td><td>51.24183                                                   </td><td>0.00266                                                    </td><td>2.93100                                                    </td><td>0.00267                                                    </td><td>                                                           </td><td>CF                                                         </td><td>C                                                          </td><td>B                                                          </td><td>For collection of mussels.                                 </td><td>false                                                      </td></tr>\n",
       "</tbody>\n",
       "</table>\n"
      ],
      "text/latex": [
       "\\begin{tabular}{r|lllllllllllllllllllll}\n",
       " Station & Header & Station\\_Code & Station\\_Country & Station\\_Name & Station\\_LongName & Station\\_ActiveFromDate & Station\\_ActiveUntilDate & Station\\_ProgramGovernance & Station\\_StationGovernance & ... & Station\\_Latitude & Station\\_LatitudeRange & Station\\_Longitude & Station\\_LongitudeRange & Station\\_Geometry & Station\\_DataType & Station\\_WLTYP & Station\\_MSTAT & Station\\_Notes & Station\\_Deprecated\\\\\n",
       "\\hline\n",
       "\t Station                                                     & Record                                                      & 1                                                           & BE                                                          & BCP                                                         &                                                             & 1997                                                        &                                                             & O                                                           & 1578                                                        & ...                                                         & 51.33333                                                    & 0.00266                                                     & 2.83333                                                     & 0.00266                                                     &                                                             & CF                                                          & MO                                                          & B                                                           & Center of the area sampled as the Belgian Continental Plat. & false                                                      \\\\\n",
       "\t Station                                                     & Record                                                      & 2                                                           & BE                                                          & DVZ\\_J99                                                   &                                                             & 1977                                                        &                                                             & O                                                           & 1578                                                        & ...                                                         & 53.25000                                                    & 0.00267                                                     & 2.50000                                                     & 0.00267                                                     &                                                             &                                                             & MO                                                          & B                                                           &                                                             & false                                                      \\\\\n",
       "\t Station                                                     & Record                                                      & 3                                                           & BE                                                          & DVZ\\_KNO                                                   &                                                             & 1997                                                        &                                                             & O                                                           & 1478                                                        & ...                                                         & 51.36483                                                    & 0.00266                                                     & 3.33500                                                     & 0.00267                                                     &                                                             & CF                                                          & C                                                           & B                                                           & For collection of mussels.                                  & false                                                      \\\\\n",
       "\t Station                                                     & Record                                                      & 4                                                           & BE                                                          & DVZ\\_NWP                                                   &                                                             & 1997                                                        &                                                             & O                                                           & 1478                                                        & ...                                                         & 51.15600                                                    & 0.00267                                                     & 2.73067                                                     & 0.00267                                                     &                                                             & CF                                                          & C                                                           & B                                                           & For collection of mussels.                                  & false                                                      \\\\\n",
       "\t Station                                                     & Record                                                      & 5                                                           & BE                                                          & DVZ\\_OS                                                    &                                                             & 1977                                                        &                                                             & O                                                           & 1578                                                        & ...                                                         & 51.37500                                                    & 0.00267                                                     & 3.76667                                                     & 0.00267                                                     &                                                             &                                                             & CE                                                          & B                                                           &                                                             & false                                                      \\\\\n",
       "\t Station                                                     & Record                                                      & 6                                                           & BE                                                          & DVZ\\_OST                                                   &                                                             & 1997                                                        &                                                             & O                                                           & 1478                                                        & ...                                                         & 51.24183                                                    & 0.00266                                                     & 2.93100                                                     & 0.00267                                                     &                                                             & CF                                                          & C                                                           & B                                                           & For collection of mussels.                                  & false                                                      \\\\\n",
       "\\end{tabular}\n"
      ],
      "text/markdown": [
       "\n",
       "| Station | Header | Station_Code | Station_Country | Station_Name | Station_LongName | Station_ActiveFromDate | Station_ActiveUntilDate | Station_ProgramGovernance | Station_StationGovernance | ... | Station_Latitude | Station_LatitudeRange | Station_Longitude | Station_LongitudeRange | Station_Geometry | Station_DataType | Station_WLTYP | Station_MSTAT | Station_Notes | Station_Deprecated |\n",
       "|---|---|---|---|---|---|---|---|---|---|---|---|---|---|---|---|---|---|---|---|---|\n",
       "| Station                                                     | Record                                                      | 1                                                           | BE                                                          | BCP                                                         |                                                             | 1997                                                        |                                                             | O                                                           | 1578                                                        | ...                                                         | 51.33333                                                    | 0.00266                                                     | 2.83333                                                     | 0.00266                                                     |                                                             | CF                                                          | MO                                                          | B                                                           | Center of the area sampled as the Belgian Continental Plat. | false                                                       |\n",
       "| Station                                                     | Record                                                      | 2                                                           | BE                                                          | DVZ_J99                                                     |                                                             | 1977                                                        |                                                             | O                                                           | 1578                                                        | ...                                                         | 53.25000                                                    | 0.00267                                                     | 2.50000                                                     | 0.00267                                                     |                                                             |                                                             | MO                                                          | B                                                           |                                                             | false                                                       |\n",
       "| Station                                                     | Record                                                      | 3                                                           | BE                                                          | DVZ_KNO                                                     |                                                             | 1997                                                        |                                                             | O                                                           | 1478                                                        | ...                                                         | 51.36483                                                    | 0.00266                                                     | 3.33500                                                     | 0.00267                                                     |                                                             | CF                                                          | C                                                           | B                                                           | For collection of mussels.                                  | false                                                       |\n",
       "| Station                                                     | Record                                                      | 4                                                           | BE                                                          | DVZ_NWP                                                     |                                                             | 1997                                                        |                                                             | O                                                           | 1478                                                        | ...                                                         | 51.15600                                                    | 0.00267                                                     | 2.73067                                                     | 0.00267                                                     |                                                             | CF                                                          | C                                                           | B                                                           | For collection of mussels.                                  | false                                                       |\n",
       "| Station                                                     | Record                                                      | 5                                                           | BE                                                          | DVZ_OS                                                      |                                                             | 1977                                                        |                                                             | O                                                           | 1578                                                        | ...                                                         | 51.37500                                                    | 0.00267                                                     | 3.76667                                                     | 0.00267                                                     |                                                             |                                                             | CE                                                          | B                                                           |                                                             | false                                                       |\n",
       "| Station                                                     | Record                                                      | 6                                                           | BE                                                          | DVZ_OST                                                     |                                                             | 1997                                                        |                                                             | O                                                           | 1478                                                        | ...                                                         | 51.24183                                                    | 0.00266                                                     | 2.93100                                                     | 0.00267                                                     |                                                             | CF                                                          | C                                                           | B                                                           | For collection of mussels.                                  | false                                                       |\n",
       "\n"
      ],
      "text/plain": [
       "  Station Header Station_Code Station_Country Station_Name Station_LongName\n",
       "1 Station Record 1            BE              BCP                          \n",
       "2 Station Record 2            BE              DVZ_J99                      \n",
       "3 Station Record 3            BE              DVZ_KNO                      \n",
       "4 Station Record 4            BE              DVZ_NWP                      \n",
       "5 Station Record 5            BE              DVZ_OS                       \n",
       "6 Station Record 6            BE              DVZ_OST                      \n",
       "  Station_ActiveFromDate Station_ActiveUntilDate Station_ProgramGovernance\n",
       "1 1997                                           O                        \n",
       "2 1977                                           O                        \n",
       "3 1997                                           O                        \n",
       "4 1997                                           O                        \n",
       "5 1977                                           O                        \n",
       "6 1997                                           O                        \n",
       "  Station_StationGovernance ... Station_Latitude Station_LatitudeRange\n",
       "1 1578                      ... 51.33333         0.00266              \n",
       "2 1578                      ... 53.25000         0.00267              \n",
       "3 1478                      ... 51.36483         0.00266              \n",
       "4 1478                      ... 51.15600         0.00267              \n",
       "5 1578                      ... 51.37500         0.00267              \n",
       "6 1478                      ... 51.24183         0.00266              \n",
       "  Station_Longitude Station_LongitudeRange Station_Geometry Station_DataType\n",
       "1 2.83333           0.00266                                 CF              \n",
       "2 2.50000           0.00267                                                 \n",
       "3 3.33500           0.00267                                 CF              \n",
       "4 2.73067           0.00267                                 CF              \n",
       "5 3.76667           0.00267                                                 \n",
       "6 2.93100           0.00267                                 CF              \n",
       "  Station_WLTYP Station_MSTAT\n",
       "1 MO            B            \n",
       "2 MO            B            \n",
       "3 C             B            \n",
       "4 C             B            \n",
       "5 CE            B            \n",
       "6 C             B            \n",
       "  Station_Notes                                              \n",
       "1 Center of the area sampled as the Belgian Continental Plat.\n",
       "2                                                            \n",
       "3 For collection of mussels.                                 \n",
       "4 For collection of mussels.                                 \n",
       "5                                                            \n",
       "6 For collection of mussels.                                 \n",
       "  Station_Deprecated\n",
       "1 false             \n",
       "2 false             \n",
       "3 false             \n",
       "4 false             \n",
       "5 false             \n",
       "6 false             "
      ]
     },
     "metadata": {},
     "output_type": "display_data"
    },
    {
     "name": "stderr",
     "output_type": "stream",
     "text": [
      "Warning message in eval(expr, envir, enclos):\n",
      "\"NAs introduced by coercion\""
     ]
    }
   ],
   "source": [
    "stations=read.csv2(\"Station_2017-07-31-03-55.tab\", sep=\"\\t\",stringsAsFactors=FALSE)\n",
    "head(stations)\n",
    "stations$Station_Latitude = as.numeric(stations$Station_Latitude)\n",
    "stations$Station_Longitude = as.numeric(stations$Station_Longitude)"
   ]
  },
  {
   "cell_type": "code",
   "execution_count": 766,
   "metadata": {},
   "outputs": [
    {
     "name": "stdout",
     "output_type": "stream",
     "text": [
      "[1] \"1 = 315(3.53137121533489 n.m.) / 420(4.74298307589353 n.m.) / 421(6.0299999999998 n.m.) / W06(7.0859120646644 n.m.)\"\n",
      "[1] \"2 = Anglia_AnOpenSea_fi01(0.223092883461483 n.m.) / Anglia_AnOpenSea_se02(0.223092883461483 n.m.) / Anglia_AnOpenSea_wa02(0.223092883461483 n.m.) / Anglia_AnOpenSea_wa03(13.875248956487 n.m.)\"\n",
      "[1] \"3 = NOORDWK70(9.2329733994367 n.m.) / NOORDWK50(12.3039522384602 n.m.) / CALLOG70(20.4495563304372 n.m.) / FOE-N03(21.3863557977581 n.m.)\"\n",
      "[1] \"4 = HumWash_HWInter_wa02(2.24381933109224 n.m.) / HumWash_HWInter_fi03(2.24889154709212 n.m.) / HumWash_Owash_se01(7.6792657523251 n.m.) / HumWash_Owash_se04(8.91907454602056 n.m.)\"\n",
      "[1] \"5 = CALLOG30(8.213848415543 n.m.) / CALLOG10(13.7302500859493 n.m.) / HOLLSKZNND(15.9098341070379 n.m.) / KUSTZNE(17.702209707044 n.m.)\"\n",
      "[1] \"6 = FOE-N42(12.8721872407166 n.m.) / BRGRU(12.893945367877 n.m.) / ZOUTKPLZGT(17.6982586477875 n.m.) / BSH-32(17.7480917196211 n.m.)\"\n",
      "[1] \"7 = LUEBU(0.838244097436123 n.m.) / OMMVZBA20(2.6650223336547 n.m.) / OMMVZBA15(2.83358363785788 n.m.) / OMMVZBA10(3.0735191869802 n.m.)\"\n",
      "[1] \"8 = BMPK14(0.199799999999897 n.m.) / OMOB4(3.92151302399087 n.m.) / IVZP(3.96244503861909 n.m.) / OMODERLEI(4.72628991095498 n.m.)\"\n",
      "[1] \"9 = P8 I(0.49980000000005 n.m.) / ELBE Ib(0.505095146122209 n.m.) / Helgoland SÃ¼dhafen(1.32416314049329 n.m.) / Helgoland(1.86683718267995 n.m.)\"\n",
      "[1] \"10 = NGW8(0.221936444666495 n.m.) / DMU 1084(12.4662591430217 n.m.) / UE29(17.6950683509626 n.m.) / UE15(19.4605514799872 n.m.)\"\n",
      "[1] \"11 = DMU 954(0.447121488652603 n.m.) / OMMVZBG05(0.920931152288625 n.m.) / OMMVZBG26(0.938090536188918 n.m.) / OMMVZBG18(1.27208925162767 n.m.)\"\n",
      "[1] \"12 = DMU 952(0.211535603911594 n.m.) / OMBMPN1(1.24726314385316 n.m.) / STO0401014(4.36592754531993 n.m.) / DMU 452(4.66072175645228 n.m.)\"\n",
      "[1] \"13 = URST2(1.48721353067817 n.m.) / DMU 1082(9.17748965962323 n.m.) / UE17(10.1297488639074 n.m.) / URST1(15.4153470968675 n.m.)\"\n",
      "[1] \"14 = BMPL1(0.27471107608776 n.m.) / PL-P1/BMPL1(0.27471107608776 n.m.) / OMBMPL1(3.43844076564016 n.m.) / FOE-B15(10.022880655598 n.m.)\"\n",
      "[1] \"15 = FOE-GB3(2.59676898343647 n.m.) / NSB2(3.56280862963636 n.m.) / NSB2(3.56280862963636 n.m.) / NSB2(4.01268307660997 n.m.)\"\n",
      "[1] \"16 = FYN 6300043(0.376559281685285 n.m.) / FYNAeroebassin(4.08547239668411 n.m.) / FYN 6402002(6.61008730621023 n.m.) / FYN6402002(6.61008730621023 n.m.)\"\n",
      "[1] \"17 = TyneTees_TTInter_se01(0.168074428550445 n.m.) / TyneTees_TTInter_wa01(0.168074428550445 n.m.) / TyneTees_TTInter_fi02(0.168074428550445 n.m.) / TyneTees_TyneWear_fi(14.437691642811 n.m.)\"\n",
      "[1] \"18 = BY2(0.193797407376487 n.m.) / OMBMPK4(0.193797407376487 n.m.) / BY2 ARKONA(1.87131851223427 n.m.) / BY2 NW(4.4711849833574 n.m.)\"\n",
      "[1] \"19 = UE27-2(8.28011590995822 n.m.) / DMU 1062(9.35229751719969 n.m.) / GN022A(10.9882981814571 n.m.) / DMU 1054(12.3316644817403 n.m.)\"\n",
      "[1] \"20 = BY7(0.276406122334831 n.m.) / OM222(0.276406122334831 n.m.) / PL-P3(0.276406122334831 n.m.) / P3/BY7(0.276406122334831 n.m.)\"\n",
      "[1] \"21 = FOE-N05(21.5519890472928 n.m.) / GN018(22.8473071681549 n.m.) / TyneTees_TTOpenSeaS_fi(29.7182584931452 n.m.) / TyneTees_TTOpenSeaS_se(29.7182584931452 n.m.)\"\n",
      "[1] \"22 = OMTF0142(5.1349295630056 n.m.) / OMTF0144(5.39807502685128 n.m.) / BY3(5.79818185803285 n.m.) / OMTF0140(15.6461825482279 n.m.)\"\n",
      "[1] \"23 = OMTF0211(0 n.m.) / FOE-B13(4.83465787029749 n.m.) / W Bornholm basin off shore(8.19759029192882 n.m.) / OMTF0214(10.526244042265 n.m.)\"\n",
      "[1] \"24 = FYNGamFjord(2.27276627892924 n.m.) / SJY LBBR5016 (3.87914609394957 n.m.) / FYN Wedellsbor(5.26481279821111 n.m.) / FYNWedelsborg(5.26481279821111 n.m.)\"\n",
      "[1] \"25 = BCSIII10(0 n.m.) / BMPK1(0 n.m.) / K1(0 n.m.) / OMBMPK1(0.300000000000153 n.m.)\"\n",
      "[1] \"26 = DMU S39A(3.73175895834 n.m.) / DMU 935(4.00623009146879 n.m.) / DMU 435(4.41227058664622 n.m.) / FYN 8881(4.95469412298909 n.m.)\"\n",
      "[1] \"27 = KBH 431(0.00180000000014502 n.m.) / DMU 431(0.00180000000014502 n.m.) / Wlandskrona(0.00180000000014502 n.m.) / DMU D15(3.54548143692444 n.m.)\"\n",
      "[1] \"28 = OM250(0.0272363680397298 n.m.) / 46(3.95169854709339 n.m.) / 757(4.70397849464837 n.m.) / 791(4.74194969917499 n.m.)\"\n",
      "[1] \"29 = 925 KATTEGAT SW(0.228838373167519 n.m.) / DMU 925(0.290337580158543 n.m.) / VSJ 20925(0.360611986657649 n.m.) / DMU D7(1.36277597558582 n.m.)\"\n",
      "[1] \"30 = Ã\\226RES-12X(2.60710645890815 n.m.) / ROS Skovshoved(4.92040281806581 n.m.) / DMU Hornbk(5.2354538348255 n.m.) / DMU 421(7.72471341051026 n.m.)\"\n",
      "[1] \"31 = BY39(2.11827398552756 n.m.) / ML27(25.2610706314348 n.m.) / FOE-B06(25.9340906578331 n.m.) / RefM1(25.9796322737687 n.m.)\"\n",
      "[1] \"32 = FOE-N23(0.500042641063739 n.m.) / 532 HI_532S(11.2895261617119 n.m.) / GN037(29.0183355884112 n.m.) / GN028(42.4478951223926 n.m.)\"\n",
      "[1] \"33 = GN035(12.1974274233041 n.m.) / Forties_Forties-OpenSea_se01(12.2556976325307 n.m.) / Forties_Forties-OpenSea_se03(12.8156983602154 n.m.) / FOE-N77(20.0368697633767 n.m.)\"\n",
      "[1] \"34 = Forties_Forties-OpenSea_se02(18.7706286387064 n.m.) / Forties_Forties-OpenSea_se04(19.1409639123068 n.m.) / GN035S(20.9845411354728 n.m.) / 495 HI_495S(43.4159971921943 n.m.)\"\n",
      "[1] \"35 = DMU D20(18.5611285694658 n.m.) / Hen D20(18.5611285694658 n.m.) / GN038(20.8711611306142 n.m.) / DMU 1027(21.2106083233782 n.m.)\"\n",
      "[1] \"36 = KA2(1.28518276982549 n.m.) / FLADEN(1.31484096067041 n.m.) / DMU 905(1.81060396328321 n.m.) / E/W FLADEN(10.3220755941143 n.m.)\"\n",
      "[1] \"37 = BY38(0.275974865460314 n.m.) / OMBMPI1(0.275974865460314 n.m.) / BY38(0.275974865460314 n.m.) / SE-10(0.807198083343218 n.m.)\"\n",
      "[1] \"38 = NJY 40302(0.426011279161659 n.m.) / DMU 403(5.31277183082132 n.m.) / LÃ\\204SÃ\\226 RÃ\\204NNA(5.61570051844877 n.m.) / NJY Kattegat 9(6.95384955666652 n.m.)\"\n",
      "[1] \"39 = BY15 GOTLANDSDJ(0.199799999999897 n.m.) / BY15(0.599999999999881 n.m.) / OMBMPJ1(0.599999999999881 n.m.) / BMPJ1(2.67755118025462 n.m.)\"\n",
      "[1] \"40 = 137A(0.182412735836234 n.m.) / 163C(8.5271574829947 n.m.) / 162B(11.5329107187278 n.m.) / 163B(12.4921194132341 n.m.)\"\n",
      "[1] \"41 = G1(0.00244131149584212 n.m.) / 121(0.00244131149584212 n.m.) / G1_ML(4.46207635886799 n.m.) / 120(14.5607709758472 n.m.)\"\n",
      "[1] \"42 = DMU 1135(5.8077820240939 n.m.) / 670 HI_670S(5.8077820240939 n.m.) / 672 HI_672S(8.57706778056519 n.m.) / 669 HI_669S(12.0515458122517 n.m.)\"\n",
      "[1] \"43 = DMU 1102(0 n.m.) / NORS-Hirts17km(0.236753278632942 n.m.) / 11N HIRTSHALS(2.50019999999978 n.m.) / NJY 7725(7.8238610177455 n.m.)\"\n",
      "[1] \"44 = DMU 1004(0.199799999999897 n.m.) / P2(0.199799999999897 n.m.) / 702 HI_702S(2.20020000000005 n.m.) / DMU 893(3.19979999999973 n.m.)\"\n",
      "[1] \"45 = BY32(0.275746699122267 n.m.) / OMTF0240(1.65613633106379 n.m.) / SE-9(2.91249677576364 n.m.) / BlÃ¥hÃ¤ll(29.4903212152922 n.m.)\"\n",
      "[1] \"46 = BY20(0.18789329554309 n.m.) / F80(0.949622872068739 n.m.) / OMTF0286(1.12848826151941 n.m.) / SE-6(3.53514529475736 n.m.)\"\n",
      "[1] \"47 = 77S Arendal area(8.87366982523094 n.m.) / 79A GjerdsvoldsÃ¸yen (east)(10.6341022131955 n.m.) / 676 HI_676S(10.735472692664 n.m.) / 77A Nordstrand(11.8818085030731 n.m.)\"\n",
      "[1] \"48 = Inre Gullmarn (BjÃ¶rkholmen)(2.50914619806664 n.m.) / ALS(4.10819291033343 n.m.) / SK22(8.68835738718899 n.m.) / KoljÃ¶fjord(8.71366722805905 n.m.)\"\n",
      "[1] \"49 = LL23(0.27556005478812 n.m.) / OMBMPH3(0.27556005478812 n.m.) / BY31 LANDSORTSDJ(0.27556005478812 n.m.) / SE-8(9.32068043725292 n.m.)\"\n",
      "[1] \"50 = LL17(0.201751364343034 n.m.) / H2(0.27326889906096 n.m.) / OMBMPH2(0.27326889906096 n.m.) / H2(0.27326889906096 n.m.)\"\n",
      "[1] \"51 = 482 HI_482S(12.1981841014818 n.m.) / NENorthSea_NENSOpenSea_fi(16.895679841018 n.m.) / NENorthSea_NENSOpenSea_se(16.895679841018 n.m.) / NENorthSea_NENSOpenSea_sh(16.895679841018 n.m.)\"\n",
      "[1] \"52 = 23(0.351695151885251 n.m.) / 23b(1.81502512242446 n.m.) / FOE-B26(7.44837872857017 n.m.) / NOS88(8.18709633745343 n.m.)\"\n",
      "[1] \"53 = LL7(0.475280871409938 n.m.) / F3(0.834284483158188 n.m.) / TH3(5.72275129750896 n.m.) / LL6A(11.6141036080732 n.m.)\"\n",
      "[1] \"54 = F64(6.69758837147676 n.m.) / F64(7.09141385225695 n.m.) / SE-4(8.02790597637937 n.m.) / AH 1(9.99564800370054 n.m.)\"\n",
      "[1] \"55 = Suomenl Haapas Kyvy-11(3.07066989253768 n.m.) / XV1(3.08720542788131 n.m.) / KAS-11(3.22047087715955 n.m.) / Suomenl Kirkonmaa Kyvy-5(6.92620879604221 n.m.)\"\n",
      "[1] \"56 = C3_South(2.30055071883907 n.m.) / F33(2.68675497249916 n.m.) / S 145B(2.7332875606853 n.m.) / S 144B(3.54589023823001 n.m.)\"\n",
      "[1] \"57 = 580 HI_580S(26.9186064103055 n.m.) / 24S Sotra(30.5523993096484 n.m.) / GN061(30.8157649762738 n.m.) / GN051(45.0992884577569 n.m.)\"\n",
      "[1] \"58 = SR5(0.274511877477733 n.m.) / SR5 / C4(0.274511877477733 n.m.) / Bothnian Sea off shore(11.1576180887844 n.m.) / SS29(38.8549760564361 n.m.)\"\n",
      "[1] \"59 = WShetland_WShIntermediate_fi(40.1377161659381 n.m.) / WShetland_WShIntermediate_se(40.1377161659381 n.m.) / WShetland_WShIntermediate_sh(40.1377161659381 n.m.) / WShetland_WShIntermediate_wa(40.1377161659381 n.m.)\"\n",
      "[1] \"60 = SR9(3.70581296607311 n.m.) / KylmÃ¤pihl lÃ¤ 435 (L25)(7.30558540068289 n.m.) / SR8(10.4784263549548 n.m.) / Pran 310 Truutin Pauha(10.9455273503001 n.m.)\"\n",
      "[1] \"61 = GN058(23.3392770047073 n.m.) / FOE-N12(48.3459613153813 n.m.) / FaroeShetC_FSCOpenSea_fi(78.7595635850232 n.m.) / FaroeShetC_FSCOpenSea_se(78.7595635850232 n.m.)\"\n",
      "[1] \"62 = GN058(50.4060112409413 n.m.) / FOE-N12(71.7234559737231 n.m.) / FOE-N13(76.9927979090144 n.m.) / GN054S(89.8164947674206 n.m.)\"\n",
      "[1] \"63 = FOE-N13(52.1166263556179 n.m.) / FOE-N40(75.3944236645217 n.m.) / GN058(82.5770374844327 n.m.) / Sandoyarbanki(90.186062816836 n.m.)\"\n",
      "[1] \"64 = F26(0.274114806343626 n.m.) / F26(0.442206319574597 n.m.) / MS8(7.83450629901945 n.m.) / US5B / C1(36.7918251798952 n.m.)\"\n",
      "[1] \"65 = US5B(0.00247024803257761 n.m.) / US5B / C1(0.350770286039113 n.m.) / US5(1.94891098096533 n.m.) / US5B 1(13.0642629987746 n.m.)\"\n",
      "[1] \"66 = 27S Stadtlandet (east)(81.0768466733762 n.m.) / 27H Storholmen(82.0617714871964 n.m.) / 27A Grinden(83.1504563120021 n.m.) / 27AA Grinden area(83.209503184589 n.m.)\"\n",
      "[1] \"67 = US2(0.0187333854246702 n.m.) / US2(0.338004416407795 n.m.) / SE-2(11.5579925186579 n.m.) / C3_North(12.3159616270035 n.m.)\"\n",
      "[1] \"68 = F18(0.0197999999998899 n.m.) / F18(0.700294193199159 n.m.) / N 24(11.2169942516071 n.m.) / N Bothnian Sea off shore(13.1330012606737 n.m.)\"\n",
      "[1] \"69 = K-B Kokkolan edusta(0.0102000000002533 n.m.) / KPO-7(0.210050752309037 n.m.) / K-D Kokkolan edusta(2.48381043324637 n.m.) / Kokkola Trullevin edusta(3.65551191657876 n.m.)\"\n",
      "[1] \"70 = F9 / A13(0.0198701461299004 n.m.) / F9(0.508026643683392 n.m.) / N 5-3(3.15808629656867 n.m.) / N 5-2(4.44110435447987 n.m.)\"\n",
      "[1] \"71 = GN060(211.807639548753 n.m.) / FOE-N39(240.699792594 n.m.) / GN059(242.515916696072 n.m.) / GN063(264.123014356155 n.m.)\"\n"
     ]
    }
   ],
   "source": [
    "for (i in seq_len(nrow(boxes_to_plot))) {\n",
    "    stations$dist_squared = (stations$Station_Latitude-boxes_to_plot$latitude[i])^2 + \n",
    "                            (stations$Station_Longitude-boxes_to_plot$longitude[i])^2*(cos(boxes_to_plot$longitude[i]*pi/180))^2\n",
    "    five_nearest_stations = stations[order(stations$dist_squared)[1:9],]\n",
    "    boxes_to_plot$station1[i] = five_nearest_stations$Station_Name[1]\n",
    "    boxes_to_plot$station2[i] = five_nearest_stations$Station_Name[2]\n",
    "    boxes_to_plot$station3[i] = five_nearest_stations$Station_Name[3]\n",
    "    boxes_to_plot$station4[i] = five_nearest_stations$Station_Name[4]\n",
    "    boxes_to_plot$station5[i] = five_nearest_stations$Station_Name[5]\n",
    "    boxes_to_plot$station6[i] = five_nearest_stations$Station_Name[6]\n",
    "    boxes_to_plot$station7[i] = five_nearest_stations$Station_Name[7]\n",
    "    boxes_to_plot$station8[i] = five_nearest_stations$Station_Name[8]\n",
    "    boxes_to_plot$station9[i] = five_nearest_stations$Station_Name[9]\n",
    "    boxes_to_plot$stationdist1[i] = sqrt(five_nearest_stations$dist_squared[1])*60\n",
    "    boxes_to_plot$stationdist2[i] = sqrt(five_nearest_stations$dist_squared[2])*60\n",
    "    boxes_to_plot$stationdist3[i] = sqrt(five_nearest_stations$dist_squared[3])*60\n",
    "    boxes_to_plot$stationdist4[i] = sqrt(five_nearest_stations$dist_squared[4])*60\n",
    "    boxes_to_plot$stationdist5[i] = sqrt(five_nearest_stations$dist_squared[5])*60\n",
    "    boxes_to_plot$stationdist6[i] = sqrt(five_nearest_stations$dist_squared[6])*60\n",
    "    boxes_to_plot$stationdist7[i] = sqrt(five_nearest_stations$dist_squared[7])*60\n",
    "    boxes_to_plot$stationdist8[i] = sqrt(five_nearest_stations$dist_squared[8])*60\n",
    "    boxes_to_plot$stationdist9[i] = sqrt(five_nearest_stations$dist_squared[9])*60\n",
    "    print(paste0(i,\" = \",boxes_to_plot$station1[i], \"(\",boxes_to_plot$stationdist1[i],\" n.m.) / \",\n",
    "                         boxes_to_plot$station2[i], \"(\",boxes_to_plot$stationdist2[i],\" n.m.) / \",\n",
    "                         boxes_to_plot$station3[i], \"(\",boxes_to_plot$stationdist3[i],\" n.m.) / \",\n",
    "                         boxes_to_plot$station4[i], \"(\",boxes_to_plot$stationdist4[i],\" n.m.)\"))\n",
    "}"
   ]
  },
  {
   "cell_type": "code",
   "execution_count": 133,
   "metadata": {},
   "outputs": [
    {
     "data": {
      "text/html": [
       "'/home/nis/radtke'"
      ],
      "text/latex": [
       "'/home/nis/radtke'"
      ],
      "text/markdown": [
       "'/home/nis/radtke'"
      ],
      "text/plain": [
       "[1] \"/home/nis/radtke\""
      ]
     },
     "metadata": {},
     "output_type": "display_data"
    }
   ],
   "source": [
    "getwd()"
   ]
  }
 ],
 "metadata": {
  "kernelspec": {
   "display_name": "(3) R",
   "language": "R",
   "name": "iow_r"
  },
  "language_info": {
   "codemirror_mode": "r",
   "file_extension": ".r",
   "mimetype": "text/x-r-source",
   "name": "R",
   "pygments_lexer": "r",
   "version": "3.6.1"
  }
 },
 "nbformat": 4,
 "nbformat_minor": 4
}
