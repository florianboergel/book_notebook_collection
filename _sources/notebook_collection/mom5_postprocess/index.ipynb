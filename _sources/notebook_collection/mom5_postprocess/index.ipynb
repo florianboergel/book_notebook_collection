{
 "cells": [
  {
   "cell_type": "markdown",
   "metadata": {},
   "source": [
    "# MOM5 output postprocessing\n",
    "\n",
    "[==>](prepare_for_validator/postprocess_validator_mom.ipynb) convert MOM5 station data output into readable format for the [interactivate validator](http://rshiny.io-warnemuende.de/radtke/validator/)"
   ]
  }
 ],
 "metadata": {
  "kernelspec": {
   "display_name": "(1) Python 3",
   "language": "python",
   "name": "iow_python"
  },
  "language_info": {
   "codemirror_mode": {
    "name": "ipython",
    "version": 3
   },
   "file_extension": ".py",
   "mimetype": "text/x-python",
   "name": "python",
   "nbconvert_exporter": "python",
   "pygments_lexer": "ipython3",
   "version": "3.7.7"
  }
 },
 "nbformat": 4,
 "nbformat_minor": 4
}
