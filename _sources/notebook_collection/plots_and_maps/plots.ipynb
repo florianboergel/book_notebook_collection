{
 "cells": [
  {
   "cell_type": "markdown",
   "metadata": {},
   "source": [
    "# Plots and maps"
   ]
  },
  {
   "cell_type": "markdown",
   "metadata": {},
   "source": [
    "## Plots\n",
    "[<img src=\"./vertical_profile/image.png\" width=300px> ==>](./map_with_countries/map_with_countries.ipynb) (R) Map with country borders\n",
    "\n",
    "\n",
    " [==>](./basic_plotting/basic_plotting.ipynb) (R) Basic plotting"
   ]
  },
  {
   "cell_type": "markdown",
   "metadata": {},
   "source": [
    "## Maps\n",
    "\n",
    "[<img src=\"./map_with_countries/image.png\" width=300px> ==>](./map_with_countries/map_with_countries.ipynb) (R) Map with country borders"
   ]
  }
 ],
 "metadata": {
  "kernelspec": {
   "display_name": "(3) R",
   "language": "R",
   "name": "iow_r"
  },
  "language_info": {
   "codemirror_mode": "r",
   "file_extension": ".r",
   "mimetype": "text/x-r-source",
   "name": "R",
   "pygments_lexer": "r",
   "version": "3.6.1"
  }
 },
 "nbformat": 4,
 "nbformat_minor": 4
}
