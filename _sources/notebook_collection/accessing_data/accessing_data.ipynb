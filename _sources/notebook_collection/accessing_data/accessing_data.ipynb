{
 "cells": [
  {
   "cell_type": "markdown",
   "metadata": {},
   "source": [
    "# Accessing data from remote or local sources\n",
    "\n",
    "## Local sources\n",
    "\n",
    "## Remote sources\n",
    "\n",
    "### sea level data\n",
    "\n",
    "[==>](sealevel_emodnet/index.ipynb) EMODNET sea level data from tide gauges\n"
   ]
  }
 ],
 "metadata": {
  "kernelspec": {
   "display_name": "(1) Python 3",
   "language": "python",
   "name": "iow_python"
  },
  "language_info": {
   "codemirror_mode": {
    "name": "ipython",
    "version": 3
   },
   "file_extension": ".py",
   "mimetype": "text/x-python",
   "name": "python",
   "nbconvert_exporter": "python",
   "pygments_lexer": "ipython3",
   "version": "3.7.7"
  }
 },
 "nbformat": 4,
 "nbformat_minor": 4
}
