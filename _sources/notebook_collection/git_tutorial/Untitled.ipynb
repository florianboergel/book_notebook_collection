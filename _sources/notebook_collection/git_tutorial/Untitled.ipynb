{
 "cells": [
  {
   "cell_type": "markdown",
   "metadata": {},
   "source": [
    "# Git - How-to"
   ]
  },
  {
   "cell_type": "markdown",
   "metadata": {},
   "source": [
    "**0. Configure git**"
   ]
  },
  {
   "cell_type": "markdown",
   "metadata": {},
   "source": [
    "```bash\n",
    "git config --global user.name \"User Name\"\n",
    "git config --global user.email user.name@io-warnemuende.de\n",
    "```"
   ]
  },
  {
   "cell_type": "markdown",
   "metadata": {},
   "source": [
    "**1. Create a new empty repository**"
   ]
  },
  {
   "cell_type": "markdown",
   "metadata": {},
   "source": [
    "```bash\n",
    "mkdir git-tutorial\n",
    "cd git-tutorial\n",
    "git init\n",
    "```\n",
    "Now the directory is a git repository"
   ]
  },
  {
   "cell_type": "markdown",
   "metadata": {},
   "source": [
    "**2. Fill the repository with content and check the status**"
   ]
  },
  {
   "cell_type": "markdown",
   "metadata": {},
   "source": [
    "```bash\n",
    "echo \"file1\" > file1.txt\n",
    "echo \"file2\" > file2.txt\n",
    "mkdir dir1\n",
    "echo \"file3\" > dir1/file3.txt\n",
    "git status\n",
    "```"
   ]
  },
  {
   "cell_type": "markdown",
   "metadata": {},
   "source": [
    "You will see two untracked files and one directory.\n",
    "Until you won`t \"add\" them, git will do nothing with these files.\n",
    "Git has a *three-step* approach:\n",
    "1. Modify or create files\n",
    "2. Mark the changes to be ready, i.e. add them to the so-called stating area.\n",
    "(2a. Check what you put one stage carefully)\n",
    "3. Make a snapshot of your repository, i.e. commit the changes."
   ]
  },
  {
   "cell_type": "markdown",
   "metadata": {},
   "source": [
    "**3. Add everything to the staging area**"
   ]
  },
  {
   "cell_type": "markdown",
   "metadata": {},
   "source": [
    "```bash\n",
    "git add *\n",
    "```\n",
    "This tells git that these files are candidates for the next commit.\n",
    "```bash\n",
    "git status\n",
    "```\n",
    "You will see three new files.\n",
    "Here is the point to check if you really want to add them all."
   ]
  },
  {
   "cell_type": "markdown",
   "metadata": {},
   "source": [
    "**4. Make the first commit (which corresponds to a snapshot of your repository)**"
   ]
  },
  {
   "cell_type": "markdown",
   "metadata": {},
   "source": [
    "```bash\n",
    "git commit -m \"Initial commit.\"\n",
    "```\n",
    "This produces a snapshot of your repo with a unique ID and the descriptive message \"Initial commit\".\\\n",
    "Use \n",
    "```bash\n",
    "git log\n",
    "```\n",
    "to see this ID and the message.\\\n",
    "Use again\n",
    "```bash\n",
    "git status\n",
    "```\n",
    "to see that your working directory, the staging area and the last snapshot are identical.\\\n",
    "Thus the repository is clean."
   ]
  },
  {
   "cell_type": "markdown",
   "metadata": {},
   "source": [
    "**5. Modify your files**"
   ]
  },
  {
   "cell_type": "markdown",
   "metadata": {},
   "source": [
    "```bash\n",
    "echo \"change\" >> file1.txt\n",
    "echo \"change\" >> file2.txt\n",
    "echo \"change\" >> dir1/file3.txt\n",
    "git status\n",
    "```\n",
    "Git has recognized that your files have changed.\n",
    "However, since nothing is added to the staging area, nothing can be commited.\\\n",
    "You can use\n",
    "```bash\n",
    "git diff\n",
    "```\n",
    "to see your modifications before you add them."
   ]
  },
  {
   "cell_type": "markdown",
   "metadata": {},
   "source": [
    "**6. Split your snapshots logically**"
   ]
  },
  {
   "cell_type": "markdown",
   "metadata": {},
   "source": [
    "Add your to the staging area, such that you organize snapshots logically, e.g.\n",
    "```bash\n",
    "git add file1.txt file2.txt\n",
    "git diff master\n",
    "```\n",
    "to finally check your changes before commiting (master refers to the master branch, see later)\n",
    "```bash\n",
    "git commit -m \"Changed top-level files\"\n",
    "```\n",
    "Use\n",
    "```bash\n",
    "git status\n",
    "```\n",
    "to see that nothing happened to file3.txt. Let's add and commit these changes now.\n",
    "```bash\n",
    "git add dir1/file3.txt\n",
    "git commit -m \"Changed low-level file\"\n",
    "```\n",
    "Now everything is clean\n",
    "```bash\n",
    "git status\n",
    "```"
   ]
  },
  {
   "cell_type": "markdown",
   "metadata": {},
   "source": [
    "**7. Use branches (if necessary)**"
   ]
  },
  {
   "cell_type": "markdown",
   "metadata": {},
   "source": [
    "The default branch in git is the master branch. At the moment your are working on that branch.\n",
    "If you work on a feature and you don't know yet if it will be finally be part of your project, i.e. in the master branch, \n",
    "you can use an extra branch for experimenting.\n",
    "Create a new branch and switch to it.\n",
    "```bash\n",
    "git branch feature\n",
    "git checkout feature\n",
    "```\n",
    "Make your experimental changes and add and commit them in usual manner\n",
    "```bash\n",
    "echo \"experiment\" >> file1.txt\n",
    "echo \"experiment\" >> file2.txt\n",
    "git add file1.txt\n",
    "git commit -m \"Added experimental feature in file1\"\n",
    "git add file2.txt\n",
    "git commit -m \"Added experimental feature in file2\"\n",
    "```\n",
    "Imagine there is an urgent need to change your project without the experiments, i.e. the master branch.\n",
    "You can also switch back to the master branch and make your urgent changes there.\n",
    "```bash\n",
    "git checkout master\n",
    "```\n",
    "You can see that there are no experiments anymore (dont't worry they are stored in the feature branch)\n",
    "```bash\n",
    "cat file1.txt file2.txt\n",
    "```\n",
    "Make your urgent fix now and add and commit it\n",
    "```bash\n",
    "echo \"urgent\" >> dir1/file3.txt\n",
    "git add dir1/file3.txt\n",
    "git commit -m \"Urgent fix for low-level file\"\n",
    "```\n",
    "You can now also add a tag for this important snapshot\n",
    "```bash\n",
    "git tag -a urgent-fix -m \"Urgent fix for low-level file\"\n",
    "```\n",
    "Now we can go back to our experiments\n",
    "```bash\n",
    "git checkout feature\n",
    "```\n",
    "We want to have the urgent fix here as well.\n",
    "Therefor we want to merge the changes happened in master into this branch\n",
    "```bash\n",
    "git merge master\n",
    "```\n",
    "Now we have the urgent fix here as well, see\n",
    "```bash\n",
    "git log\n",
    "```\n",
    "We now realize that we are done with our experiments and we want to have this feature in the master branch as well.\n",
    "```bash\n",
    "sed -i s.experiment.feature.g file1.txt\n",
    "sed -i s.experiment.feature.g file2.txt\n",
    "```\n",
    "Let's add and commit the lastest changes and merge this branch into the master\n",
    "```bash\n",
    "git add *\n",
    "git commit -m \"Feature is implemented\"\n",
    "git checkout master\n",
    "git merge feature\n",
    "```"
   ]
  },
  {
   "cell_type": "code",
   "execution_count": null,
   "metadata": {},
   "outputs": [],
   "source": []
  }
 ],
 "metadata": {
  "kernelspec": {
   "display_name": "(1) Python 3",
   "language": "python",
   "name": "iow_python"
  },
  "language_info": {
   "codemirror_mode": {
    "name": "ipython",
    "version": 3
   },
   "file_extension": ".py",
   "mimetype": "text/x-python",
   "name": "python",
   "nbconvert_exporter": "python",
   "pygments_lexer": "ipython3",
   "version": "3.7.7"
  }
 },
 "nbformat": 4,
 "nbformat_minor": 5
}
